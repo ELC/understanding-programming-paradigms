{
    "cells": [
        {
            "attachments": {},
            "cell_type": "markdown",
            "metadata": {},
            "source": [
                "# Probabilistic Paradigm"
            ]
        },
        {
            "cell_type": "markdown",
            "metadata": {},
            "source": [
                "# Initial Set-Up"
            ]
        },
        {
            "cell_type": "code",
            "execution_count": 1,
            "metadata": {},
            "outputs": [
                {
                    "name": "stderr",
                    "output_type": "stream",
                    "text": [
                        "WARNING (pytensor.configdefaults): g++ not available, if using conda: `conda install m2w64-toolchain`\n",
                        "WARNING (pytensor.configdefaults): g++ not detected!  PyTensor will be unable to compile C-implementations and will default to Python. Performance may be severely degraded. To remove this warning, set PyTensor flags cxx to an empty string.\n",
                        "WARNING (pytensor.tensor.blas): Using NumPy C-API based implementation for BLAS functions.\n"
                    ]
                }
            ],
            "source": [
                "import pymc as pm\n",
                "\n",
                "SAMPLES = 100"
            ]
        },
        {
            "cell_type": "markdown",
            "metadata": {},
            "source": [
                "## Predecessor and Successor"
            ]
        },
        {
            "cell_type": "code",
            "execution_count": 2,
            "metadata": {},
            "outputs": [
                {
                    "name": "stderr",
                    "output_type": "stream",
                    "text": [
                        "Only 100 samples in chain.\n",
                        "Multiprocess sampling (4 chains in 4 jobs)\n",
                        "Metropolis: [a]\n"
                    ]
                },
                {
                    "data": {
                        "text/html": [
                            "\n",
                            "<style>\n",
                            "    /* Turns off some styling */\n",
                            "    progress {\n",
                            "        /* gets rid of default border in Firefox and Opera. */\n",
                            "        border: none;\n",
                            "        /* Needs to be in here for Safari polyfill so background images work as expected. */\n",
                            "        background-size: auto;\n",
                            "    }\n",
                            "    progress:not([value]), progress:not([value])::-webkit-progress-bar {\n",
                            "        background: repeating-linear-gradient(45deg, #7e7e7e, #7e7e7e 10px, #5c5c5c 10px, #5c5c5c 20px);\n",
                            "    }\n",
                            "    .progress-bar-interrupted, .progress-bar-interrupted::-webkit-progress-bar {\n",
                            "        background: #F44336;\n",
                            "    }\n",
                            "</style>\n"
                        ],
                        "text/plain": [
                            "<IPython.core.display.HTML object>"
                        ]
                    },
                    "metadata": {},
                    "output_type": "display_data"
                },
                {
                    "data": {
                        "text/html": [
                            "\n",
                            "    <div>\n",
                            "      <progress value='4400' class='' max='4400' style='width:300px; height:20px; vertical-align: middle;'></progress>\n",
                            "      100.00% [4400/4400 00:04&lt;00:00 Sampling 4 chains, 0 divergences]\n",
                            "    </div>\n",
                            "    "
                        ],
                        "text/plain": [
                            "<IPython.core.display.HTML object>"
                        ]
                    },
                    "metadata": {},
                    "output_type": "display_data"
                },
                {
                    "name": "stderr",
                    "output_type": "stream",
                    "text": [
                        "Sampling 4 chains for 1_000 tune and 100 draw iterations (4_000 + 400 draws total) took 29 seconds.\n",
                        "w:\\Repositories\\understanding-programming-paradigms\\.venv\\lib\\site-packages\\arviz\\stats\\diagnostics.py:584: RuntimeWarning: invalid value encountered in scalar divide\n",
                        "  (between_chain_variance / within_chain_variance + num_samples - 1) / (num_samples)\n",
                        "Only 100 samples in chain.\n",
                        "Multiprocess sampling (4 chains in 4 jobs)\n",
                        "Metropolis: [a]\n"
                    ]
                },
                {
                    "data": {
                        "text/html": [
                            "\n",
                            "<style>\n",
                            "    /* Turns off some styling */\n",
                            "    progress {\n",
                            "        /* gets rid of default border in Firefox and Opera. */\n",
                            "        border: none;\n",
                            "        /* Needs to be in here for Safari polyfill so background images work as expected. */\n",
                            "        background-size: auto;\n",
                            "    }\n",
                            "    progress:not([value]), progress:not([value])::-webkit-progress-bar {\n",
                            "        background: repeating-linear-gradient(45deg, #7e7e7e, #7e7e7e 10px, #5c5c5c 10px, #5c5c5c 20px);\n",
                            "    }\n",
                            "    .progress-bar-interrupted, .progress-bar-interrupted::-webkit-progress-bar {\n",
                            "        background: #F44336;\n",
                            "    }\n",
                            "</style>\n"
                        ],
                        "text/plain": [
                            "<IPython.core.display.HTML object>"
                        ]
                    },
                    "metadata": {},
                    "output_type": "display_data"
                },
                {
                    "data": {
                        "text/html": [
                            "\n",
                            "    <div>\n",
                            "      <progress value='4400' class='' max='4400' style='width:300px; height:20px; vertical-align: middle;'></progress>\n",
                            "      100.00% [4400/4400 00:05&lt;00:00 Sampling 4 chains, 0 divergences]\n",
                            "    </div>\n",
                            "    "
                        ],
                        "text/plain": [
                            "<IPython.core.display.HTML object>"
                        ]
                    },
                    "metadata": {},
                    "output_type": "display_data"
                },
                {
                    "name": "stderr",
                    "output_type": "stream",
                    "text": [
                        "Sampling 4 chains for 1_000 tune and 100 draw iterations (4_000 + 400 draws total) took 28 seconds.\n",
                        "w:\\Repositories\\understanding-programming-paradigms\\.venv\\lib\\site-packages\\arviz\\stats\\diagnostics.py:584: RuntimeWarning: invalid value encountered in scalar divide\n",
                        "  (between_chain_variance / within_chain_variance + num_samples - 1) / (num_samples)\n"
                    ]
                }
            ],
            "source": [
                "def predecessor(a: int) -> int:\n",
                "    with pm.Model():\n",
                "        interim_variable = pm.DiracDelta(\"a\", a)\n",
                "        result = pm.Deterministic(\"result\", interim_variable - 1)\n",
                "        data = pm.sample(SAMPLES)\n",
                "    \n",
                "    mean_result = data.posterior.result.mean()    \n",
                "    return int(mean_result.values)    \n",
                "\n",
                "\n",
                "assert predecessor(1) == 0\n",
                "assert predecessor(10) == 9\n"
            ]
        },
        {
            "cell_type": "code",
            "execution_count": 3,
            "metadata": {},
            "outputs": [
                {
                    "name": "stderr",
                    "output_type": "stream",
                    "text": [
                        "Only 100 samples in chain.\n",
                        "Multiprocess sampling (4 chains in 4 jobs)\n",
                        "Metropolis: [a]\n"
                    ]
                },
                {
                    "data": {
                        "text/html": [
                            "\n",
                            "<style>\n",
                            "    /* Turns off some styling */\n",
                            "    progress {\n",
                            "        /* gets rid of default border in Firefox and Opera. */\n",
                            "        border: none;\n",
                            "        /* Needs to be in here for Safari polyfill so background images work as expected. */\n",
                            "        background-size: auto;\n",
                            "    }\n",
                            "    progress:not([value]), progress:not([value])::-webkit-progress-bar {\n",
                            "        background: repeating-linear-gradient(45deg, #7e7e7e, #7e7e7e 10px, #5c5c5c 10px, #5c5c5c 20px);\n",
                            "    }\n",
                            "    .progress-bar-interrupted, .progress-bar-interrupted::-webkit-progress-bar {\n",
                            "        background: #F44336;\n",
                            "    }\n",
                            "</style>\n"
                        ],
                        "text/plain": [
                            "<IPython.core.display.HTML object>"
                        ]
                    },
                    "metadata": {},
                    "output_type": "display_data"
                },
                {
                    "data": {
                        "text/html": [
                            "\n",
                            "    <div>\n",
                            "      <progress value='4400' class='' max='4400' style='width:300px; height:20px; vertical-align: middle;'></progress>\n",
                            "      100.00% [4400/4400 00:04&lt;00:00 Sampling 4 chains, 0 divergences]\n",
                            "    </div>\n",
                            "    "
                        ],
                        "text/plain": [
                            "<IPython.core.display.HTML object>"
                        ]
                    },
                    "metadata": {},
                    "output_type": "display_data"
                },
                {
                    "name": "stderr",
                    "output_type": "stream",
                    "text": [
                        "Sampling 4 chains for 1_000 tune and 100 draw iterations (4_000 + 400 draws total) took 27 seconds.\n",
                        "w:\\Repositories\\understanding-programming-paradigms\\.venv\\lib\\site-packages\\arviz\\stats\\diagnostics.py:584: RuntimeWarning: invalid value encountered in scalar divide\n",
                        "  (between_chain_variance / within_chain_variance + num_samples - 1) / (num_samples)\n",
                        "Only 100 samples in chain.\n",
                        "Multiprocess sampling (4 chains in 4 jobs)\n",
                        "Metropolis: [a]\n"
                    ]
                },
                {
                    "data": {
                        "text/html": [
                            "\n",
                            "<style>\n",
                            "    /* Turns off some styling */\n",
                            "    progress {\n",
                            "        /* gets rid of default border in Firefox and Opera. */\n",
                            "        border: none;\n",
                            "        /* Needs to be in here for Safari polyfill so background images work as expected. */\n",
                            "        background-size: auto;\n",
                            "    }\n",
                            "    progress:not([value]), progress:not([value])::-webkit-progress-bar {\n",
                            "        background: repeating-linear-gradient(45deg, #7e7e7e, #7e7e7e 10px, #5c5c5c 10px, #5c5c5c 20px);\n",
                            "    }\n",
                            "    .progress-bar-interrupted, .progress-bar-interrupted::-webkit-progress-bar {\n",
                            "        background: #F44336;\n",
                            "    }\n",
                            "</style>\n"
                        ],
                        "text/plain": [
                            "<IPython.core.display.HTML object>"
                        ]
                    },
                    "metadata": {},
                    "output_type": "display_data"
                },
                {
                    "data": {
                        "text/html": [
                            "\n",
                            "    <div>\n",
                            "      <progress value='4400' class='' max='4400' style='width:300px; height:20px; vertical-align: middle;'></progress>\n",
                            "      100.00% [4400/4400 00:04&lt;00:00 Sampling 4 chains, 0 divergences]\n",
                            "    </div>\n",
                            "    "
                        ],
                        "text/plain": [
                            "<IPython.core.display.HTML object>"
                        ]
                    },
                    "metadata": {},
                    "output_type": "display_data"
                },
                {
                    "name": "stderr",
                    "output_type": "stream",
                    "text": [
                        "Sampling 4 chains for 1_000 tune and 100 draw iterations (4_000 + 400 draws total) took 27 seconds.\n",
                        "w:\\Repositories\\understanding-programming-paradigms\\.venv\\lib\\site-packages\\arviz\\stats\\diagnostics.py:584: RuntimeWarning: invalid value encountered in scalar divide\n",
                        "  (between_chain_variance / within_chain_variance + num_samples - 1) / (num_samples)\n"
                    ]
                }
            ],
            "source": [
                "def successor(a: int) -> int:\n",
                "    with pm.Model():\n",
                "        interim_variable = pm.DiracDelta(\"a\", a)\n",
                "        result = pm.Deterministic(\"result\", interim_variable + 1)\n",
                "        data = pm.sample(SAMPLES)\n",
                "    \n",
                "    mean_result = data.posterior.result.mean()    \n",
                "    return int(mean_result.values) \n",
                "\n",
                "\n",
                "assert successor(0) == 1\n",
                "assert successor(10) == 11\n"
            ]
        },
        {
            "cell_type": "markdown",
            "metadata": {},
            "source": [
                "## Addition"
            ]
        },
        {
            "cell_type": "code",
            "execution_count": 4,
            "metadata": {},
            "outputs": [
                {
                    "name": "stderr",
                    "output_type": "stream",
                    "text": [
                        "Only 100 samples in chain.\n",
                        "Multiprocess sampling (4 chains in 4 jobs)\n",
                        "CompoundStep\n",
                        ">Metropolis: [a1]\n",
                        ">Metropolis: [a2]\n"
                    ]
                },
                {
                    "data": {
                        "text/html": [
                            "\n",
                            "<style>\n",
                            "    /* Turns off some styling */\n",
                            "    progress {\n",
                            "        /* gets rid of default border in Firefox and Opera. */\n",
                            "        border: none;\n",
                            "        /* Needs to be in here for Safari polyfill so background images work as expected. */\n",
                            "        background-size: auto;\n",
                            "    }\n",
                            "    progress:not([value]), progress:not([value])::-webkit-progress-bar {\n",
                            "        background: repeating-linear-gradient(45deg, #7e7e7e, #7e7e7e 10px, #5c5c5c 10px, #5c5c5c 20px);\n",
                            "    }\n",
                            "    .progress-bar-interrupted, .progress-bar-interrupted::-webkit-progress-bar {\n",
                            "        background: #F44336;\n",
                            "    }\n",
                            "</style>\n"
                        ],
                        "text/plain": [
                            "<IPython.core.display.HTML object>"
                        ]
                    },
                    "metadata": {},
                    "output_type": "display_data"
                },
                {
                    "data": {
                        "text/html": [
                            "\n",
                            "    <div>\n",
                            "      <progress value='4400' class='' max='4400' style='width:300px; height:20px; vertical-align: middle;'></progress>\n",
                            "      100.00% [4400/4400 00:06&lt;00:00 Sampling 4 chains, 0 divergences]\n",
                            "    </div>\n",
                            "    "
                        ],
                        "text/plain": [
                            "<IPython.core.display.HTML object>"
                        ]
                    },
                    "metadata": {},
                    "output_type": "display_data"
                },
                {
                    "name": "stderr",
                    "output_type": "stream",
                    "text": [
                        "Sampling 4 chains for 1_000 tune and 100 draw iterations (4_000 + 400 draws total) took 27 seconds.\n",
                        "w:\\Repositories\\understanding-programming-paradigms\\.venv\\lib\\site-packages\\arviz\\stats\\diagnostics.py:584: RuntimeWarning: invalid value encountered in scalar divide\n",
                        "  (between_chain_variance / within_chain_variance + num_samples - 1) / (num_samples)\n",
                        "Only 100 samples in chain.\n",
                        "Multiprocess sampling (4 chains in 4 jobs)\n",
                        "CompoundStep\n",
                        ">Metropolis: [a1]\n",
                        ">Metropolis: [a2]\n"
                    ]
                },
                {
                    "data": {
                        "text/html": [
                            "\n",
                            "<style>\n",
                            "    /* Turns off some styling */\n",
                            "    progress {\n",
                            "        /* gets rid of default border in Firefox and Opera. */\n",
                            "        border: none;\n",
                            "        /* Needs to be in here for Safari polyfill so background images work as expected. */\n",
                            "        background-size: auto;\n",
                            "    }\n",
                            "    progress:not([value]), progress:not([value])::-webkit-progress-bar {\n",
                            "        background: repeating-linear-gradient(45deg, #7e7e7e, #7e7e7e 10px, #5c5c5c 10px, #5c5c5c 20px);\n",
                            "    }\n",
                            "    .progress-bar-interrupted, .progress-bar-interrupted::-webkit-progress-bar {\n",
                            "        background: #F44336;\n",
                            "    }\n",
                            "</style>\n"
                        ],
                        "text/plain": [
                            "<IPython.core.display.HTML object>"
                        ]
                    },
                    "metadata": {},
                    "output_type": "display_data"
                },
                {
                    "data": {
                        "text/html": [
                            "\n",
                            "    <div>\n",
                            "      <progress value='4400' class='' max='4400' style='width:300px; height:20px; vertical-align: middle;'></progress>\n",
                            "      100.00% [4400/4400 00:04&lt;00:00 Sampling 4 chains, 0 divergences]\n",
                            "    </div>\n",
                            "    "
                        ],
                        "text/plain": [
                            "<IPython.core.display.HTML object>"
                        ]
                    },
                    "metadata": {},
                    "output_type": "display_data"
                },
                {
                    "name": "stderr",
                    "output_type": "stream",
                    "text": [
                        "Sampling 4 chains for 1_000 tune and 100 draw iterations (4_000 + 400 draws total) took 27 seconds.\n",
                        "w:\\Repositories\\understanding-programming-paradigms\\.venv\\lib\\site-packages\\arviz\\stats\\diagnostics.py:584: RuntimeWarning: invalid value encountered in scalar divide\n",
                        "  (between_chain_variance / within_chain_variance + num_samples - 1) / (num_samples)\n",
                        "Only 100 samples in chain.\n",
                        "Multiprocess sampling (4 chains in 4 jobs)\n",
                        "CompoundStep\n",
                        ">Metropolis: [a1]\n",
                        ">Metropolis: [a2]\n"
                    ]
                },
                {
                    "data": {
                        "text/html": [
                            "\n",
                            "<style>\n",
                            "    /* Turns off some styling */\n",
                            "    progress {\n",
                            "        /* gets rid of default border in Firefox and Opera. */\n",
                            "        border: none;\n",
                            "        /* Needs to be in here for Safari polyfill so background images work as expected. */\n",
                            "        background-size: auto;\n",
                            "    }\n",
                            "    progress:not([value]), progress:not([value])::-webkit-progress-bar {\n",
                            "        background: repeating-linear-gradient(45deg, #7e7e7e, #7e7e7e 10px, #5c5c5c 10px, #5c5c5c 20px);\n",
                            "    }\n",
                            "    .progress-bar-interrupted, .progress-bar-interrupted::-webkit-progress-bar {\n",
                            "        background: #F44336;\n",
                            "    }\n",
                            "</style>\n"
                        ],
                        "text/plain": [
                            "<IPython.core.display.HTML object>"
                        ]
                    },
                    "metadata": {},
                    "output_type": "display_data"
                },
                {
                    "data": {
                        "text/html": [
                            "\n",
                            "    <div>\n",
                            "      <progress value='4400' class='' max='4400' style='width:300px; height:20px; vertical-align: middle;'></progress>\n",
                            "      100.00% [4400/4400 00:04&lt;00:00 Sampling 4 chains, 0 divergences]\n",
                            "    </div>\n",
                            "    "
                        ],
                        "text/plain": [
                            "<IPython.core.display.HTML object>"
                        ]
                    },
                    "metadata": {},
                    "output_type": "display_data"
                },
                {
                    "name": "stderr",
                    "output_type": "stream",
                    "text": [
                        "Sampling 4 chains for 1_000 tune and 100 draw iterations (4_000 + 400 draws total) took 23 seconds.\n",
                        "w:\\Repositories\\understanding-programming-paradigms\\.venv\\lib\\site-packages\\arviz\\stats\\diagnostics.py:584: RuntimeWarning: invalid value encountered in scalar divide\n",
                        "  (between_chain_variance / within_chain_variance + num_samples - 1) / (num_samples)\n",
                        "Only 100 samples in chain.\n",
                        "Multiprocess sampling (4 chains in 4 jobs)\n",
                        "CompoundStep\n",
                        ">Metropolis: [a1]\n",
                        ">Metropolis: [a2]\n"
                    ]
                },
                {
                    "data": {
                        "text/html": [
                            "\n",
                            "<style>\n",
                            "    /* Turns off some styling */\n",
                            "    progress {\n",
                            "        /* gets rid of default border in Firefox and Opera. */\n",
                            "        border: none;\n",
                            "        /* Needs to be in here for Safari polyfill so background images work as expected. */\n",
                            "        background-size: auto;\n",
                            "    }\n",
                            "    progress:not([value]), progress:not([value])::-webkit-progress-bar {\n",
                            "        background: repeating-linear-gradient(45deg, #7e7e7e, #7e7e7e 10px, #5c5c5c 10px, #5c5c5c 20px);\n",
                            "    }\n",
                            "    .progress-bar-interrupted, .progress-bar-interrupted::-webkit-progress-bar {\n",
                            "        background: #F44336;\n",
                            "    }\n",
                            "</style>\n"
                        ],
                        "text/plain": [
                            "<IPython.core.display.HTML object>"
                        ]
                    },
                    "metadata": {},
                    "output_type": "display_data"
                },
                {
                    "data": {
                        "text/html": [
                            "\n",
                            "    <div>\n",
                            "      <progress value='4400' class='' max='4400' style='width:300px; height:20px; vertical-align: middle;'></progress>\n",
                            "      100.00% [4400/4400 00:04&lt;00:00 Sampling 4 chains, 0 divergences]\n",
                            "    </div>\n",
                            "    "
                        ],
                        "text/plain": [
                            "<IPython.core.display.HTML object>"
                        ]
                    },
                    "metadata": {},
                    "output_type": "display_data"
                },
                {
                    "name": "stderr",
                    "output_type": "stream",
                    "text": [
                        "Sampling 4 chains for 1_000 tune and 100 draw iterations (4_000 + 400 draws total) took 24 seconds.\n",
                        "w:\\Repositories\\understanding-programming-paradigms\\.venv\\lib\\site-packages\\arviz\\stats\\diagnostics.py:584: RuntimeWarning: invalid value encountered in scalar divide\n",
                        "  (between_chain_variance / within_chain_variance + num_samples - 1) / (num_samples)\n"
                    ]
                }
            ],
            "source": [
                "def addition(addend_1: int, addend_2: int) -> int:\n",
                "    with pm.Model():\n",
                "        interim_addend_1 = pm.DiracDelta(\"a1\", addend_1)\n",
                "        interim_addend_2 = pm.DiracDelta(\"a2\", addend_2)\n",
                "        result = pm.Deterministic(\"result\", interim_addend_1 + interim_addend_2)\n",
                "        data = pm.sample(SAMPLES)\n",
                "    \n",
                "    mean_result = data.posterior.result.mean()    \n",
                "    return int(mean_result.values) \n",
                "\n",
                "\n",
                "assert addition(0, 0) == 0\n",
                "assert addition(1, 0) == 1\n",
                "assert addition(0, 1) == 1\n",
                "assert addition(10, 10) == 20\n"
            ]
        },
        {
            "cell_type": "markdown",
            "metadata": {},
            "source": [
                "## Multiplication"
            ]
        },
        {
            "cell_type": "code",
            "execution_count": 5,
            "metadata": {},
            "outputs": [
                {
                    "name": "stderr",
                    "output_type": "stream",
                    "text": [
                        "Only 100 samples in chain.\n",
                        "Multiprocess sampling (4 chains in 4 jobs)\n",
                        "CompoundStep\n",
                        ">Metropolis: [m1]\n",
                        ">Metropolis: [m2]\n"
                    ]
                },
                {
                    "data": {
                        "text/html": [
                            "\n",
                            "<style>\n",
                            "    /* Turns off some styling */\n",
                            "    progress {\n",
                            "        /* gets rid of default border in Firefox and Opera. */\n",
                            "        border: none;\n",
                            "        /* Needs to be in here for Safari polyfill so background images work as expected. */\n",
                            "        background-size: auto;\n",
                            "    }\n",
                            "    progress:not([value]), progress:not([value])::-webkit-progress-bar {\n",
                            "        background: repeating-linear-gradient(45deg, #7e7e7e, #7e7e7e 10px, #5c5c5c 10px, #5c5c5c 20px);\n",
                            "    }\n",
                            "    .progress-bar-interrupted, .progress-bar-interrupted::-webkit-progress-bar {\n",
                            "        background: #F44336;\n",
                            "    }\n",
                            "</style>\n"
                        ],
                        "text/plain": [
                            "<IPython.core.display.HTML object>"
                        ]
                    },
                    "metadata": {},
                    "output_type": "display_data"
                },
                {
                    "data": {
                        "text/html": [
                            "\n",
                            "    <div>\n",
                            "      <progress value='4400' class='' max='4400' style='width:300px; height:20px; vertical-align: middle;'></progress>\n",
                            "      100.00% [4400/4400 00:05&lt;00:00 Sampling 4 chains, 0 divergences]\n",
                            "    </div>\n",
                            "    "
                        ],
                        "text/plain": [
                            "<IPython.core.display.HTML object>"
                        ]
                    },
                    "metadata": {},
                    "output_type": "display_data"
                },
                {
                    "name": "stderr",
                    "output_type": "stream",
                    "text": [
                        "Sampling 4 chains for 1_000 tune and 100 draw iterations (4_000 + 400 draws total) took 26 seconds.\n",
                        "w:\\Repositories\\understanding-programming-paradigms\\.venv\\lib\\site-packages\\arviz\\stats\\diagnostics.py:584: RuntimeWarning: invalid value encountered in scalar divide\n",
                        "  (between_chain_variance / within_chain_variance + num_samples - 1) / (num_samples)\n",
                        "Only 100 samples in chain.\n",
                        "Multiprocess sampling (4 chains in 4 jobs)\n",
                        "CompoundStep\n",
                        ">Metropolis: [m1]\n",
                        ">Metropolis: [m2]\n"
                    ]
                },
                {
                    "data": {
                        "text/html": [
                            "\n",
                            "<style>\n",
                            "    /* Turns off some styling */\n",
                            "    progress {\n",
                            "        /* gets rid of default border in Firefox and Opera. */\n",
                            "        border: none;\n",
                            "        /* Needs to be in here for Safari polyfill so background images work as expected. */\n",
                            "        background-size: auto;\n",
                            "    }\n",
                            "    progress:not([value]), progress:not([value])::-webkit-progress-bar {\n",
                            "        background: repeating-linear-gradient(45deg, #7e7e7e, #7e7e7e 10px, #5c5c5c 10px, #5c5c5c 20px);\n",
                            "    }\n",
                            "    .progress-bar-interrupted, .progress-bar-interrupted::-webkit-progress-bar {\n",
                            "        background: #F44336;\n",
                            "    }\n",
                            "</style>\n"
                        ],
                        "text/plain": [
                            "<IPython.core.display.HTML object>"
                        ]
                    },
                    "metadata": {},
                    "output_type": "display_data"
                },
                {
                    "data": {
                        "text/html": [
                            "\n",
                            "    <div>\n",
                            "      <progress value='4400' class='' max='4400' style='width:300px; height:20px; vertical-align: middle;'></progress>\n",
                            "      100.00% [4400/4400 00:04&lt;00:00 Sampling 4 chains, 0 divergences]\n",
                            "    </div>\n",
                            "    "
                        ],
                        "text/plain": [
                            "<IPython.core.display.HTML object>"
                        ]
                    },
                    "metadata": {},
                    "output_type": "display_data"
                },
                {
                    "name": "stderr",
                    "output_type": "stream",
                    "text": [
                        "Sampling 4 chains for 1_000 tune and 100 draw iterations (4_000 + 400 draws total) took 24 seconds.\n",
                        "w:\\Repositories\\understanding-programming-paradigms\\.venv\\lib\\site-packages\\arviz\\stats\\diagnostics.py:584: RuntimeWarning: invalid value encountered in scalar divide\n",
                        "  (between_chain_variance / within_chain_variance + num_samples - 1) / (num_samples)\n",
                        "Only 100 samples in chain.\n",
                        "Multiprocess sampling (4 chains in 4 jobs)\n",
                        "CompoundStep\n",
                        ">Metropolis: [m1]\n",
                        ">Metropolis: [m2]\n"
                    ]
                },
                {
                    "data": {
                        "text/html": [
                            "\n",
                            "<style>\n",
                            "    /* Turns off some styling */\n",
                            "    progress {\n",
                            "        /* gets rid of default border in Firefox and Opera. */\n",
                            "        border: none;\n",
                            "        /* Needs to be in here for Safari polyfill so background images work as expected. */\n",
                            "        background-size: auto;\n",
                            "    }\n",
                            "    progress:not([value]), progress:not([value])::-webkit-progress-bar {\n",
                            "        background: repeating-linear-gradient(45deg, #7e7e7e, #7e7e7e 10px, #5c5c5c 10px, #5c5c5c 20px);\n",
                            "    }\n",
                            "    .progress-bar-interrupted, .progress-bar-interrupted::-webkit-progress-bar {\n",
                            "        background: #F44336;\n",
                            "    }\n",
                            "</style>\n"
                        ],
                        "text/plain": [
                            "<IPython.core.display.HTML object>"
                        ]
                    },
                    "metadata": {},
                    "output_type": "display_data"
                },
                {
                    "data": {
                        "text/html": [
                            "\n",
                            "    <div>\n",
                            "      <progress value='4400' class='' max='4400' style='width:300px; height:20px; vertical-align: middle;'></progress>\n",
                            "      100.00% [4400/4400 00:05&lt;00:00 Sampling 4 chains, 0 divergences]\n",
                            "    </div>\n",
                            "    "
                        ],
                        "text/plain": [
                            "<IPython.core.display.HTML object>"
                        ]
                    },
                    "metadata": {},
                    "output_type": "display_data"
                },
                {
                    "name": "stderr",
                    "output_type": "stream",
                    "text": [
                        "Sampling 4 chains for 1_000 tune and 100 draw iterations (4_000 + 400 draws total) took 25 seconds.\n",
                        "w:\\Repositories\\understanding-programming-paradigms\\.venv\\lib\\site-packages\\arviz\\stats\\diagnostics.py:584: RuntimeWarning: invalid value encountered in scalar divide\n",
                        "  (between_chain_variance / within_chain_variance + num_samples - 1) / (num_samples)\n",
                        "Only 100 samples in chain.\n",
                        "Multiprocess sampling (4 chains in 4 jobs)\n",
                        "CompoundStep\n",
                        ">Metropolis: [m1]\n",
                        ">Metropolis: [m2]\n"
                    ]
                },
                {
                    "data": {
                        "text/html": [
                            "\n",
                            "<style>\n",
                            "    /* Turns off some styling */\n",
                            "    progress {\n",
                            "        /* gets rid of default border in Firefox and Opera. */\n",
                            "        border: none;\n",
                            "        /* Needs to be in here for Safari polyfill so background images work as expected. */\n",
                            "        background-size: auto;\n",
                            "    }\n",
                            "    progress:not([value]), progress:not([value])::-webkit-progress-bar {\n",
                            "        background: repeating-linear-gradient(45deg, #7e7e7e, #7e7e7e 10px, #5c5c5c 10px, #5c5c5c 20px);\n",
                            "    }\n",
                            "    .progress-bar-interrupted, .progress-bar-interrupted::-webkit-progress-bar {\n",
                            "        background: #F44336;\n",
                            "    }\n",
                            "</style>\n"
                        ],
                        "text/plain": [
                            "<IPython.core.display.HTML object>"
                        ]
                    },
                    "metadata": {},
                    "output_type": "display_data"
                },
                {
                    "data": {
                        "text/html": [
                            "\n",
                            "    <div>\n",
                            "      <progress value='4400' class='' max='4400' style='width:300px; height:20px; vertical-align: middle;'></progress>\n",
                            "      100.00% [4400/4400 00:05&lt;00:00 Sampling 4 chains, 0 divergences]\n",
                            "    </div>\n",
                            "    "
                        ],
                        "text/plain": [
                            "<IPython.core.display.HTML object>"
                        ]
                    },
                    "metadata": {},
                    "output_type": "display_data"
                },
                {
                    "name": "stderr",
                    "output_type": "stream",
                    "text": [
                        "Sampling 4 chains for 1_000 tune and 100 draw iterations (4_000 + 400 draws total) took 27 seconds.\n",
                        "w:\\Repositories\\understanding-programming-paradigms\\.venv\\lib\\site-packages\\arviz\\stats\\diagnostics.py:584: RuntimeWarning: invalid value encountered in scalar divide\n",
                        "  (between_chain_variance / within_chain_variance + num_samples - 1) / (num_samples)\n"
                    ]
                }
            ],
            "source": [
                "def multiplication(multiplicand: int, multiplier: int) -> int:\n",
                "    with pm.Model():\n",
                "        interim_multiplicand = pm.DiracDelta(\"m1\", multiplicand)\n",
                "        interim_multiplier = pm.DiracDelta(\"m2\", multiplier)\n",
                "        result = pm.Deterministic(\"result\", interim_multiplicand * interim_multiplier)\n",
                "        data = pm.sample(SAMPLES)\n",
                "    \n",
                "    mean_result = data.posterior.result.mean()    \n",
                "    return int(mean_result.values) \n",
                "\n",
                "\n",
                "assert multiplication(0, 0) == 0\n",
                "assert multiplication(2, 0) == 0\n",
                "assert multiplication(0, 2) == 0\n",
                "assert multiplication(10, 10) == 100\n"
            ]
        },
        {
            "cell_type": "markdown",
            "metadata": {},
            "source": [
                "## Exponentiation"
            ]
        },
        {
            "cell_type": "code",
            "execution_count": 6,
            "metadata": {},
            "outputs": [
                {
                    "name": "stderr",
                    "output_type": "stream",
                    "text": [
                        "Only 100 samples in chain.\n",
                        "Multiprocess sampling (4 chains in 4 jobs)\n",
                        "CompoundStep\n",
                        ">Metropolis: [b]\n",
                        ">Metropolis: [e]\n"
                    ]
                },
                {
                    "data": {
                        "text/html": [
                            "\n",
                            "<style>\n",
                            "    /* Turns off some styling */\n",
                            "    progress {\n",
                            "        /* gets rid of default border in Firefox and Opera. */\n",
                            "        border: none;\n",
                            "        /* Needs to be in here for Safari polyfill so background images work as expected. */\n",
                            "        background-size: auto;\n",
                            "    }\n",
                            "    progress:not([value]), progress:not([value])::-webkit-progress-bar {\n",
                            "        background: repeating-linear-gradient(45deg, #7e7e7e, #7e7e7e 10px, #5c5c5c 10px, #5c5c5c 20px);\n",
                            "    }\n",
                            "    .progress-bar-interrupted, .progress-bar-interrupted::-webkit-progress-bar {\n",
                            "        background: #F44336;\n",
                            "    }\n",
                            "</style>\n"
                        ],
                        "text/plain": [
                            "<IPython.core.display.HTML object>"
                        ]
                    },
                    "metadata": {},
                    "output_type": "display_data"
                },
                {
                    "data": {
                        "text/html": [
                            "\n",
                            "    <div>\n",
                            "      <progress value='4400' class='' max='4400' style='width:300px; height:20px; vertical-align: middle;'></progress>\n",
                            "      100.00% [4400/4400 00:05&lt;00:00 Sampling 4 chains, 0 divergences]\n",
                            "    </div>\n",
                            "    "
                        ],
                        "text/plain": [
                            "<IPython.core.display.HTML object>"
                        ]
                    },
                    "metadata": {},
                    "output_type": "display_data"
                },
                {
                    "name": "stderr",
                    "output_type": "stream",
                    "text": [
                        "Sampling 4 chains for 1_000 tune and 100 draw iterations (4_000 + 400 draws total) took 27 seconds.\n",
                        "w:\\Repositories\\understanding-programming-paradigms\\.venv\\lib\\site-packages\\arviz\\stats\\diagnostics.py:584: RuntimeWarning: invalid value encountered in scalar divide\n",
                        "  (between_chain_variance / within_chain_variance + num_samples - 1) / (num_samples)\n",
                        "Only 100 samples in chain.\n",
                        "Multiprocess sampling (4 chains in 4 jobs)\n",
                        "CompoundStep\n",
                        ">Metropolis: [b]\n",
                        ">Metropolis: [e]\n"
                    ]
                },
                {
                    "data": {
                        "text/html": [
                            "\n",
                            "<style>\n",
                            "    /* Turns off some styling */\n",
                            "    progress {\n",
                            "        /* gets rid of default border in Firefox and Opera. */\n",
                            "        border: none;\n",
                            "        /* Needs to be in here for Safari polyfill so background images work as expected. */\n",
                            "        background-size: auto;\n",
                            "    }\n",
                            "    progress:not([value]), progress:not([value])::-webkit-progress-bar {\n",
                            "        background: repeating-linear-gradient(45deg, #7e7e7e, #7e7e7e 10px, #5c5c5c 10px, #5c5c5c 20px);\n",
                            "    }\n",
                            "    .progress-bar-interrupted, .progress-bar-interrupted::-webkit-progress-bar {\n",
                            "        background: #F44336;\n",
                            "    }\n",
                            "</style>\n"
                        ],
                        "text/plain": [
                            "<IPython.core.display.HTML object>"
                        ]
                    },
                    "metadata": {},
                    "output_type": "display_data"
                },
                {
                    "data": {
                        "text/html": [
                            "\n",
                            "    <div>\n",
                            "      <progress value='4400' class='' max='4400' style='width:300px; height:20px; vertical-align: middle;'></progress>\n",
                            "      100.00% [4400/4400 00:05&lt;00:00 Sampling 4 chains, 0 divergences]\n",
                            "    </div>\n",
                            "    "
                        ],
                        "text/plain": [
                            "<IPython.core.display.HTML object>"
                        ]
                    },
                    "metadata": {},
                    "output_type": "display_data"
                },
                {
                    "name": "stderr",
                    "output_type": "stream",
                    "text": [
                        "Sampling 4 chains for 1_000 tune and 100 draw iterations (4_000 + 400 draws total) took 27 seconds.\n",
                        "w:\\Repositories\\understanding-programming-paradigms\\.venv\\lib\\site-packages\\arviz\\stats\\diagnostics.py:584: RuntimeWarning: invalid value encountered in scalar divide\n",
                        "  (between_chain_variance / within_chain_variance + num_samples - 1) / (num_samples)\n",
                        "Only 100 samples in chain.\n",
                        "Multiprocess sampling (4 chains in 4 jobs)\n",
                        "CompoundStep\n",
                        ">Metropolis: [b]\n",
                        ">Metropolis: [e]\n"
                    ]
                },
                {
                    "data": {
                        "text/html": [
                            "\n",
                            "<style>\n",
                            "    /* Turns off some styling */\n",
                            "    progress {\n",
                            "        /* gets rid of default border in Firefox and Opera. */\n",
                            "        border: none;\n",
                            "        /* Needs to be in here for Safari polyfill so background images work as expected. */\n",
                            "        background-size: auto;\n",
                            "    }\n",
                            "    progress:not([value]), progress:not([value])::-webkit-progress-bar {\n",
                            "        background: repeating-linear-gradient(45deg, #7e7e7e, #7e7e7e 10px, #5c5c5c 10px, #5c5c5c 20px);\n",
                            "    }\n",
                            "    .progress-bar-interrupted, .progress-bar-interrupted::-webkit-progress-bar {\n",
                            "        background: #F44336;\n",
                            "    }\n",
                            "</style>\n"
                        ],
                        "text/plain": [
                            "<IPython.core.display.HTML object>"
                        ]
                    },
                    "metadata": {},
                    "output_type": "display_data"
                },
                {
                    "data": {
                        "text/html": [
                            "\n",
                            "    <div>\n",
                            "      <progress value='4400' class='' max='4400' style='width:300px; height:20px; vertical-align: middle;'></progress>\n",
                            "      100.00% [4400/4400 00:04&lt;00:00 Sampling 4 chains, 0 divergences]\n",
                            "    </div>\n",
                            "    "
                        ],
                        "text/plain": [
                            "<IPython.core.display.HTML object>"
                        ]
                    },
                    "metadata": {},
                    "output_type": "display_data"
                },
                {
                    "name": "stderr",
                    "output_type": "stream",
                    "text": [
                        "Sampling 4 chains for 1_000 tune and 100 draw iterations (4_000 + 400 draws total) took 28 seconds.\n",
                        "w:\\Repositories\\understanding-programming-paradigms\\.venv\\lib\\site-packages\\arviz\\stats\\diagnostics.py:584: RuntimeWarning: invalid value encountered in scalar divide\n",
                        "  (between_chain_variance / within_chain_variance + num_samples - 1) / (num_samples)\n"
                    ]
                }
            ],
            "source": [
                "def exponentiation(base: int, exponent: int) -> float:\n",
                "    with pm.Model():\n",
                "        interim_base = pm.DiracDelta(\"b\", base)\n",
                "        interim_exponent = pm.DiracDelta(\"e\", exponent)\n",
                "        result = pm.Deterministic(\"result\", interim_base ** interim_exponent)\n",
                "        data = pm.sample(SAMPLES)\n",
                "    \n",
                "    mean_result = data.posterior.result.mean()    \n",
                "    return int(mean_result.values) \n",
                "\n",
                "\n",
                "assert exponentiation(1, 0) == 1\n",
                "assert exponentiation(0, 1) == 0\n",
                "assert exponentiation(3, 3) == 27\n"
            ]
        },
        {
            "cell_type": "code",
            "execution_count": null,
            "metadata": {},
            "outputs": [],
            "source": []
        }
    ],
    "metadata": {
        "kernelspec": {
            "display_name": "Python 3.10.4 ('.venv': venv)",
            "language": "python",
            "name": "python3"
        },
        "language_info": {
            "codemirror_mode": {
                "name": "ipython",
                "version": 3
            },
            "file_extension": ".py",
            "mimetype": "text/x-python",
            "name": "python",
            "nbconvert_exporter": "python",
            "pygments_lexer": "ipython3",
            "version": "3.10.4"
        },
        "orig_nbformat": 4,
        "vscode": {
            "interpreter": {
                "hash": "a3349956cd5f31eb09cfa8ab65ba9774bc4eb05174a2fc2b960d18a93fca386a"
            }
        }
    },
    "nbformat": 4,
    "nbformat_minor": 2
}
