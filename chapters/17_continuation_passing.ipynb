{
    "cells": [
        {
            "attachments": {},
            "cell_type": "markdown",
            "metadata": {},
            "source": [
                "# Continuation Passing Paradigm"
            ]
        },
        {
            "cell_type": "markdown",
            "metadata": {},
            "source": [
                "## Initial Set-Up"
            ]
        },
        {
            "cell_type": "code",
            "execution_count": 1,
            "metadata": {},
            "outputs": [],
            "source": [
                "from typing import Callable, Any\n",
                "from functools import partial\n",
                "\n",
                "\n",
                "def validate_result(expected: int) -> Callable[[int], None]:\n",
                "    def validate_input(actual: int) -> None:\n",
                "        assert actual == expected, actual\n",
                "\n",
                "    return validate_input\n",
                "\n",
                "\n",
                "def loop(\n",
                "    function: Callable[[int, Callable[[int], None]], None],\n",
                "    n: int,\n",
                "    continuation: Callable[[int], None],\n",
                "    *args: int\n",
                ") -> None:\n",
                "    if n <= 0:\n",
                "        continuation(*args)\n",
                "        return\n",
                "\n",
                "    aux = partial(function, continuation=continuation)\n",
                "    for _ in range(n - 1):\n",
                "        aux = partial(function, continuation=aux)\n",
                "    aux(*args)\n"
            ]
        },
        {
            "cell_type": "markdown",
            "metadata": {},
            "source": [
                "## Predecessor and Successor"
            ]
        },
        {
            "cell_type": "code",
            "execution_count": 2,
            "metadata": {},
            "outputs": [],
            "source": [
                "def predecessor(a: int, continuation: Callable[[int], Any]) -> None:\n",
                "    continuation(a - 1)\n",
                "\n",
                "\n",
                "predecessor(1, validate_result(0))\n",
                "predecessor(10, validate_result(9))\n"
            ]
        },
        {
            "cell_type": "code",
            "execution_count": 3,
            "metadata": {},
            "outputs": [],
            "source": [
                "def successor(a: int, continuation: Callable[[int], Any]) -> None:\n",
                "    continuation(a + 1)\n",
                "\n",
                "\n",
                "successor(0, validate_result(1))\n",
                "successor(10, validate_result(11))\n"
            ]
        },
        {
            "cell_type": "markdown",
            "metadata": {},
            "source": [
                "## Addition"
            ]
        },
        {
            "cell_type": "code",
            "execution_count": 4,
            "metadata": {},
            "outputs": [],
            "source": [
                "def addition(addend_1: int, addend_2: int, continuation: Callable[[int], Any]) -> None:\n",
                "    loop(successor, addend_2, continuation, addend_1)\n",
                "\n",
                "\n",
                "addition(0, 0, validate_result(0))\n",
                "addition(1, 0, validate_result(1))\n",
                "addition(0, 1, validate_result(1))\n",
                "addition(10, 10, validate_result(20))\n"
            ]
        },
        {
            "cell_type": "markdown",
            "metadata": {},
            "source": [
                "## Multiplication"
            ]
        },
        {
            "cell_type": "code",
            "execution_count": 5,
            "metadata": {},
            "outputs": [],
            "source": [
                "def multiplication(\n",
                "    multiplicand: int, multiplier: int, continuation: Callable[[int], Any]\n",
                ") -> None:\n",
                "    if multiplicand == 0 or multiplier == 0:\n",
                "        continuation(0)\n",
                "        return\n",
                "\n",
                "    fixed_addition = partial(addition, addend_2=multiplicand)\n",
                "    loop(fixed_addition, multiplier, continuation, 0)\n",
                "\n",
                "\n",
                "multiplication(0, 0, validate_result(0))\n",
                "multiplication(2, 0, validate_result(0))\n",
                "multiplication(0, 2, validate_result(0))\n",
                "multiplication(10, 10, validate_result(100))\n"
            ]
        },
        {
            "cell_type": "markdown",
            "metadata": {},
            "source": [
                "## Exponentiation"
            ]
        },
        {
            "cell_type": "code",
            "execution_count": 6,
            "metadata": {},
            "outputs": [],
            "source": [
                "def exponentiation(\n",
                "    base: int, exponent: int, continuation: Callable[[int], Any]\n",
                ") -> None:\n",
                "    fixed_multiplication = partial(multiplication, multiplier=base)\n",
                "    loop(fixed_multiplication, exponent, continuation, 1)\n",
                "\n",
                "\n",
                "exponentiation(1, 0, validate_result(1))\n",
                "exponentiation(0, 1, validate_result(0))\n",
                "exponentiation(3, 3, validate_result(27))\n"
            ]
        }
    ],
    "metadata": {
        "kernelspec": {
            "display_name": "Python 3.10.4 ('.venv': venv)",
            "language": "python",
            "name": "python3"
        },
        "language_info": {
            "codemirror_mode": {
                "name": "ipython",
                "version": 3
            },
            "file_extension": ".py",
            "mimetype": "text/x-python",
            "name": "python",
            "nbconvert_exporter": "python",
            "pygments_lexer": "ipython3",
            "version": "3.10.4"
        },
        "orig_nbformat": 4,
        "vscode": {
            "interpreter": {
                "hash": "a3349956cd5f31eb09cfa8ab65ba9774bc4eb05174a2fc2b960d18a93fca386a"
            }
        }
    },
    "nbformat": 4,
    "nbformat_minor": 2
}
