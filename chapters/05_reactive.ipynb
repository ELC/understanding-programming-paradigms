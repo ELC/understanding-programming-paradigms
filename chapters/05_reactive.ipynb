{
    "cells": [
        {
            "cell_type": "markdown",
            "metadata": {},
            "source": [
                "# Reactive Paradigm"
            ]
        },
        {
            "cell_type": "markdown",
            "metadata": {},
            "source": [
                "## Initial Set-Up"
            ]
        },
        {
            "cell_type": "code",
            "execution_count": 7,
            "metadata": {},
            "outputs": [],
            "source": [
                "from typing import Callable, List\n",
                "import reactivex as rx\n",
                "import reactivex.operators as op\n"
            ]
        },
        {
            "cell_type": "code",
            "execution_count": 8,
            "metadata": {},
            "outputs": [],
            "source": [
                "def store_results(results: List[float]):\n",
                "    def store_value(value: float) -> None:\n",
                "        results.append(value)\n",
                "\n",
                "    return store_value\n"
            ]
        },
        {
            "cell_type": "markdown",
            "metadata": {},
            "source": [
                "## Predecessor and Successor"
            ]
        },
        {
            "cell_type": "code",
            "execution_count": 9,
            "metadata": {},
            "outputs": [],
            "source": [
                "def predecessor(\n",
                "    a: rx.Observable[float], callback: Callable[..., None]\n",
                ") -> None:\n",
                "    predecessor: rx.Observable[float] = a.pipe(op.map(lambda x: x - 1))\n",
                "    predecessor.subscribe(callback)\n",
                "\n",
                "\n",
                "results = []\n",
                "predecessor(rx.of(1, 10), store_results(results))\n",
                "\n",
                "assert results[0] == 0\n",
                "assert results[1] == 9\n"
            ]
        },
        {
            "cell_type": "code",
            "execution_count": 10,
            "metadata": {},
            "outputs": [],
            "source": [
                "def successor(a: rx.Observable[float], callback: Callable[..., None]) -> None:\n",
                "    successor: rx.Observable[float] = a.pipe(op.map(lambda x: x + 1))\n",
                "    successor.subscribe(callback)\n",
                "\n",
                "\n",
                "results = []\n",
                "successor(rx.of(0, 10), store_results(results))\n",
                "\n",
                "assert results[0] == 1\n",
                "assert results[1] == 11\n"
            ]
        },
        {
            "cell_type": "markdown",
            "metadata": {},
            "source": [
                "## Addition"
            ]
        },
        {
            "cell_type": "code",
            "execution_count": 11,
            "metadata": {},
            "outputs": [],
            "source": [
                "def addition(\n",
                "    a: rx.Observable[float], b: rx.Observable[float], callback: Callable[..., None]\n",
                ") -> None:\n",
                "    pair = rx.zip(a, b)\n",
                "    pair_sum: rx.Observable[float] = pair.pipe(op.map(lambda pair: pair[0] + pair[1]))\n",
                "    pair_sum.subscribe(callback)\n",
                "\n",
                "\n",
                "results = []\n",
                "addition(rx.of(0, 1, 0, 10), rx.of(0, 0, 1, 10), store_results(results))\n",
                "\n",
                "assert results[0] == 0\n",
                "assert results[1] == 1\n",
                "assert results[2] == 1\n",
                "assert results[3] == 20\n"
            ]
        },
        {
            "cell_type": "markdown",
            "metadata": {},
            "source": [
                "## Multiplication"
            ]
        },
        {
            "cell_type": "code",
            "execution_count": 12,
            "metadata": {},
            "outputs": [],
            "source": [
                "def multiplication(\n",
                "    a: rx.Observable[float], b: rx.Observable[float], callback: Callable[..., None]\n",
                ") -> None:\n",
                "    pair = rx.zip(a, b)\n",
                "    pair_multiplication: rx.Observable[float] = pair.pipe(\n",
                "        op.map(lambda pair: pair[0] * pair[1])\n",
                "    )\n",
                "    pair_multiplication.subscribe(callback)\n",
                "\n",
                "\n",
                "results = []\n",
                "multiplication(rx.of(0, 1, 0, 10), rx.of(0, 0, 1, 10), store_results(results))\n",
                "assert results[0] == 0\n",
                "assert results[1] == 0\n",
                "assert results[2] == 0\n",
                "assert results[3] == 100\n"
            ]
        },
        {
            "cell_type": "markdown",
            "metadata": {},
            "source": [
                "## Exponentiation"
            ]
        },
        {
            "cell_type": "code",
            "execution_count": 13,
            "metadata": {},
            "outputs": [],
            "source": [
                "def exponentiation(\n",
                "    a: rx.Observable[float], b: rx.Observable[float], callback: Callable[..., None]\n",
                ") -> None:\n",
                "    pair = rx.zip(a, b)\n",
                "    pair_exponentiation: rx.Observable[float] = pair.pipe(\n",
                "        op.map(lambda pair: pair[0] ** pair[1])\n",
                "    )\n",
                "    pair_exponentiation.subscribe(callback)\n",
                "\n",
                "\n",
                "results = []\n",
                "exponentiation(rx.of(1, 0, 3), rx.of(0, 1, 3), store_results(results))\n",
                "assert results[0] == 1\n",
                "assert results[1] == 0\n",
                "assert results[2] == 27\n"
            ]
        }
    ],
    "metadata": {
        "kernelspec": {
            "display_name": "Python 3.10.4 ('.venv': venv)",
            "language": "python",
            "name": "python3"
        },
        "language_info": {
            "codemirror_mode": {
                "name": "ipython",
                "version": 3
            },
            "file_extension": ".py",
            "mimetype": "text/x-python",
            "name": "python",
            "nbconvert_exporter": "python",
            "pygments_lexer": "ipython3",
            "version": "3.10.4"
        },
        "orig_nbformat": 4,
        "vscode": {
            "interpreter": {
                "hash": "a3349956cd5f31eb09cfa8ab65ba9774bc4eb05174a2fc2b960d18a93fca386a"
            }
        }
    },
    "nbformat": 4,
    "nbformat_minor": 2
}
