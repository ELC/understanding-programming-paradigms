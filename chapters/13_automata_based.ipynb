{
    "cells": [
        {
            "cell_type": "markdown",
            "metadata": {},
            "source": [
                "# Automata Based Paradigm"
            ]
        },
        {
            "cell_type": "markdown",
            "metadata": {},
            "source": [
                "## Initial Set-Up"
            ]
        },
        {
            "cell_type": "code",
            "execution_count": 1,
            "metadata": {},
            "outputs": [],
            "source": [
                "from automata.tm.dtm import DTM\n"
            ]
        },
        {
            "cell_type": "code",
            "execution_count": 2,
            "metadata": {},
            "outputs": [],
            "source": [
                "def int_to_unary(number: int) -> str:\n",
                "    return \"0\" * number\n",
                "\n",
                "\n",
                "def unary_to_int(number: str) -> int:\n",
                "    return len(number)\n"
            ]
        },
        {
            "cell_type": "markdown",
            "metadata": {},
            "source": [
                "## Predecessor and Successor"
            ]
        },
        {
            "cell_type": "code",
            "execution_count": 3,
            "metadata": {},
            "outputs": [],
            "source": [
                "def predecessor(a: int) -> int:\n",
                "    dtm = DTM(\n",
                "        states={\"q0\", \"q1\", \"q2\"},\n",
                "        input_symbols={\"0\"},\n",
                "        tape_symbols={\"0\", \".\"},\n",
                "        transitions={\n",
                "            \"q0\": {\"0\": (\"q0\", \"0\", \"R\"), \".\": (\"q1\", \".\", \"L\")},\n",
                "            \"q1\": {\".\": (\"q1\", \".\", \"L\"), \"0\": (\"q2\", \".\", \"L\")},\n",
                "        },\n",
                "        initial_state=\"q0\",\n",
                "        blank_symbol=\".\",\n",
                "        final_states={\"q2\"},\n",
                "    )\n",
                "    input_string = int_to_unary(a)\n",
                "    result, *_ = \"\".join(dtm.read_input(input_string).tape.tape).split(\".\")\n",
                "    return unary_to_int(result)\n",
                "\n",
                "\n",
                "assert predecessor(1) == 0\n",
                "assert predecessor(10) == 9\n"
            ]
        },
        {
            "cell_type": "code",
            "execution_count": 4,
            "metadata": {},
            "outputs": [],
            "source": [
                "def successor(a: int) -> int:\n",
                "    dtm = DTM(\n",
                "        states={\"q0\", \"q1\"},\n",
                "        input_symbols={\"0\"},\n",
                "        tape_symbols={\"0\", \".\"},\n",
                "        transitions={\n",
                "            \"q0\": {\"0\": (\"q0\", \"0\", \"R\"), \".\": (\"q1\", \"0\", \"R\")},\n",
                "        },\n",
                "        initial_state=\"q0\",\n",
                "        blank_symbol=\".\",\n",
                "        final_states={\"q1\"},\n",
                "    )\n",
                "    input_string = int_to_unary(a)\n",
                "    result, *_ = \"\".join(dtm.read_input(input_string).tape.tape).split(\".\")\n",
                "    return unary_to_int(result)\n",
                "\n",
                "\n",
                "assert successor(0) == 1\n",
                "assert successor(10) == 11\n"
            ]
        },
        {
            "cell_type": "markdown",
            "metadata": {},
            "source": [
                "## Addition"
            ]
        },
        {
            "cell_type": "code",
            "execution_count": 5,
            "metadata": {},
            "outputs": [],
            "source": [
                "def addition(addend_1: int, addend_2: int) -> int:\n",
                "    # Implementation from https://www.geeksforgeeks.org/turing-machine-addition/\n",
                "    dtm = DTM(\n",
                "        states={\"q0\", \"q1\", \"q2\", \"q3\", \"q4\", \"q5\"},\n",
                "        input_symbols={\"0\", \"c\"},\n",
                "        tape_symbols={\"0\", \"x\", \"c\", \".\"},\n",
                "        transitions={\n",
                "            \"q0\": {\"0\": (\"q1\", \"x\", \"R\"), \"c\": (\"q5\", \".\", \"R\")},\n",
                "            \"q1\": {\"0\": (\"q1\", \"0\", \"R\"), \"c\": (\"q2\", \"c\", \"R\")},\n",
                "            \"q2\": {\"0\": (\"q2\", \"0\", \"R\"), \".\": (\"q3\", \"0\", \"L\")},\n",
                "            \"q3\": {\"0\": (\"q3\", \"0\", \"L\"), \"c\": (\"q4\", \"c\", \"L\")},\n",
                "            \"q4\": {\"0\": (\"q4\", \"0\", \"L\"), \"x\": (\"q0\", \"x\", \"R\")},\n",
                "        },\n",
                "        initial_state=\"q0\",\n",
                "        blank_symbol=\".\",\n",
                "        final_states={\"q5\"},\n",
                "    )\n",
                "\n",
                "    input_string = f\"{int_to_unary(addend_1)}c{int_to_unary(addend_2)}\"\n",
                "    *_, result = \"\".join(dtm.read_input(input_string).tape.tape).split(\".\")\n",
                "    return unary_to_int(result)\n",
                "\n",
                "\n",
                "assert addition(0, 0) == 0\n",
                "assert addition(1, 0) == 1\n",
                "assert addition(0, 1) == 1\n",
                "assert addition(10, 10) == 20\n"
            ]
        },
        {
            "cell_type": "markdown",
            "metadata": {},
            "source": [
                "### Step by Step Breakdown"
            ]
        },
        {
            "cell_type": "code",
            "execution_count": 6,
            "metadata": {},
            "outputs": [
                {
                    "name": "stdout",
                    "output_type": "stream",
                    "text": [
                        "TMConfiguration('q0', TMTape('00c00', 0))\n",
                        "TMConfiguration('q1', TMTape('x0c00', 1))\n",
                        "TMConfiguration('q1', TMTape('x0c00', 2))\n",
                        "TMConfiguration('q2', TMTape('x0c00', 3))\n",
                        "TMConfiguration('q2', TMTape('x0c00', 4))\n",
                        "TMConfiguration('q2', TMTape('x0c00.', 5))\n",
                        "TMConfiguration('q3', TMTape('x0c000', 4))\n",
                        "TMConfiguration('q3', TMTape('x0c000', 3))\n",
                        "TMConfiguration('q3', TMTape('x0c000', 2))\n",
                        "TMConfiguration('q4', TMTape('x0c000', 1))\n",
                        "TMConfiguration('q4', TMTape('x0c000', 0))\n",
                        "TMConfiguration('q0', TMTape('x0c000', 1))\n",
                        "TMConfiguration('q1', TMTape('xxc000', 2))\n",
                        "TMConfiguration('q2', TMTape('xxc000', 3))\n",
                        "TMConfiguration('q2', TMTape('xxc000', 4))\n",
                        "TMConfiguration('q2', TMTape('xxc000', 5))\n",
                        "TMConfiguration('q2', TMTape('xxc000.', 6))\n",
                        "TMConfiguration('q3', TMTape('xxc0000', 5))\n",
                        "TMConfiguration('q3', TMTape('xxc0000', 4))\n",
                        "TMConfiguration('q3', TMTape('xxc0000', 3))\n",
                        "TMConfiguration('q3', TMTape('xxc0000', 2))\n",
                        "TMConfiguration('q4', TMTape('xxc0000', 1))\n",
                        "TMConfiguration('q0', TMTape('xxc0000', 2))\n",
                        "TMConfiguration('q5', TMTape('xx.0000', 3))\n"
                    ]
                }
            ],
            "source": [
                "dtm = DTM(\n",
                "    states={\"q0\", \"q1\", \"q2\", \"q3\", \"q4\", \"q5\"},\n",
                "    input_symbols={\"0\", \"c\"},\n",
                "    tape_symbols={\"0\", \"x\", \"c\", \".\"},\n",
                "    transitions={\n",
                "        \"q0\": {\"0\": (\"q1\", \"x\", \"R\"), \"c\": (\"q5\", \".\", \"R\")},\n",
                "        \"q1\": {\"0\": (\"q1\", \"0\", \"R\"), \"c\": (\"q2\", \"c\", \"R\")},\n",
                "        \"q2\": {\"0\": (\"q2\", \"0\", \"R\"), \".\": (\"q3\", \"0\", \"L\")},\n",
                "        \"q3\": {\"0\": (\"q3\", \"0\", \"L\"), \"c\": (\"q4\", \"c\", \"L\")},\n",
                "        \"q4\": {\"0\": (\"q4\", \"0\", \"L\"), \"x\": (\"q0\", \"x\", \"R\")},\n",
                "    },\n",
                "    initial_state=\"q0\",\n",
                "    blank_symbol=\".\",\n",
                "    final_states={\"q5\"},\n",
                ")\n",
                "\n",
                "for step in list(dtm.read_input_stepwise(\"00c00\")):\n",
                "    print(step)\n"
            ]
        },
        {
            "cell_type": "code",
            "execution_count": 7,
            "metadata": {},
            "outputs": [],
            "source": [
                "# Addition of 2+2\n",
                "# 2 + 2 => 00c00\n",
                "# '0'c00     # Q0 -> Q1\n",
                "# x'0'c00    # Q1 -> Q1\n",
                "# x0'c'00    # Q1 -> Q2\n",
                "# x0c'0'0    # Q2 -> Q2\n",
                "# x0c0'0'    # Q2 -> Q2\n",
                "# x0c00' '   # Q2 -> Q3\n",
                "# x0c0'0'0   # Q3 -> Q3\n",
                "# x0c'0'00   # Q3 -> Q3\n",
                "# x0'c'000   # Q3 -> Q4\n",
                "# x'0'c000   # Q4 -> Q4\n",
                "# 'x'0c000   # Q4 -> Q0\n",
                "# x'0'c000   # Q0 -> Q1\n",
                "# xx'c'000   # Q1 -> Q2\n",
                "# xxc'0'00   # Q2 -> Q2\n",
                "# xxc0'0'0   # Q2 -> Q2\n",
                "# xxc00'0'   # Q2 -> Q2\n",
                "# xxc000' '  # Q2 -> Q3\n",
                "# xxc00'0'0  # Q3 -> Q3\n",
                "# xxc0'0'00  # Q3 -> Q3\n",
                "# xxc'0'000  # Q3 -> Q3\n",
                "# xx'c'0000  # Q3 -> Q4\n",
                "# x'x'c0000  # Q4 -> Q0\n",
                "# xx'c'0000  # Q0 -> Q5\n",
                "# xx.'0'000  # Q5\n"
            ]
        },
        {
            "cell_type": "markdown",
            "metadata": {},
            "source": [
                "## Multiplication"
            ]
        },
        {
            "cell_type": "code",
            "execution_count": 8,
            "metadata": {},
            "outputs": [],
            "source": [
                "def multiplication(multiplicand: int, multiplier: int) -> int:\n",
                "    dtm = DTM(\n",
                "        states={\n",
                "            \"q0\",\n",
                "            \"q1\",\n",
                "            \"q2\",\n",
                "            \"q3\",\n",
                "            \"q4\",\n",
                "            \"q5\",\n",
                "            \"q6\",\n",
                "            \"q7\",\n",
                "            \"q8\",\n",
                "            \"q9\",\n",
                "            \"q10\",\n",
                "            \"q11\",\n",
                "            \"q12\",\n",
                "        },\n",
                "        input_symbols={\"0\", \"x\", \"=\"},\n",
                "        tape_symbols={\"0\", \"x\", \"y\", \".\", \"=\"},\n",
                "        transitions={\n",
                "            \"q0\": {\"0\": (\"q1\", \"x\", \"R\"), \"x\": (\"q11\", \"x\", \"L\")},\n",
                "            \"q1\": {\"0\": (\"q1\", \"0\", \"R\"), \"x\": (\"q2\", \"x\", \"R\")},\n",
                "            \"q2\": {\"=\": (\"q3\", \"=\", \"L\"), \"0\": (\"q4\", \"y\", \"R\")},\n",
                "            \"q3\": {\"y\": (\"q3\", \"0\", \"L\"), \"x\": (\"q9\", \"x\", \"L\")},\n",
                "            \"q4\": {\"0\": (\"q4\", \"0\", \"R\"), \"=\": (\"q5\", \"=\", \"R\")},\n",
                "            \"q5\": {\"0\": (\"q5\", \"0\", \"R\"), \".\": (\"q6\", \"0\", \"L\")},\n",
                "            \"q6\": {\"0\": (\"q6\", \"0\", \"L\"), \"=\": (\"q7\", \"=\", \"L\")},\n",
                "            \"q7\": {\"0\": (\"q7\", \"0\", \"L\"), \"y\": (\"q8\", \"y\", \"R\")},\n",
                "            \"q8\": {\"0\": (\"q4\", \"y\", \"R\"), \"=\": (\"q3\", \"=\", \"L\")},\n",
                "            \"q9\": {\"0\": (\"q9\", \"0\", \"L\"), \"x\": (\"q0\", \"x\", \"R\")},\n",
                "            \"q11\": {\"x\": (\"q11\", \"0\", \"L\"), \".\": (\"q12\", \".\", \"R\")},\n",
                "        },\n",
                "        initial_state=\"q0\",\n",
                "        blank_symbol=\".\",\n",
                "        final_states={\"q12\"},\n",
                "    )\n",
                "\n",
                "    input_string = f\"{int_to_unary(multiplicand)}x{int_to_unary(multiplier)}=\"\n",
                "    *_, result = \"\".join(dtm.read_input(input_string).tape.tape).split(\"=\")\n",
                "    return unary_to_int(result)\n",
                "\n",
                "\n",
                "assert multiplication(0, 0) == 0\n",
                "assert multiplication(2, 0) == 0\n",
                "assert multiplication(0, 2) == 0\n",
                "assert multiplication(10, 10) == 100\n"
            ]
        },
        {
            "cell_type": "code",
            "execution_count": 9,
            "metadata": {},
            "outputs": [
                {
                    "name": "stdout",
                    "output_type": "stream",
                    "text": [
                        "TMConfiguration('q0', TMTape('00x000=', 0))\n",
                        "TMConfiguration('q1', TMTape('x0x000=', 1))\n",
                        "TMConfiguration('q1', TMTape('x0x000=', 2))\n",
                        "TMConfiguration('q2', TMTape('x0x000=', 3))\n",
                        "TMConfiguration('q4', TMTape('x0xy00=', 4))\n",
                        "TMConfiguration('q4', TMTape('x0xy00=', 5))\n",
                        "TMConfiguration('q4', TMTape('x0xy00=', 6))\n",
                        "TMConfiguration('q5', TMTape('x0xy00=.', 7))\n",
                        "TMConfiguration('q6', TMTape('x0xy00=0', 6))\n",
                        "TMConfiguration('q7', TMTape('x0xy00=0', 5))\n",
                        "TMConfiguration('q7', TMTape('x0xy00=0', 4))\n",
                        "TMConfiguration('q7', TMTape('x0xy00=0', 3))\n",
                        "TMConfiguration('q8', TMTape('x0xy00=0', 4))\n",
                        "TMConfiguration('q4', TMTape('x0xyy0=0', 5))\n",
                        "TMConfiguration('q4', TMTape('x0xyy0=0', 6))\n",
                        "TMConfiguration('q5', TMTape('x0xyy0=0', 7))\n",
                        "TMConfiguration('q5', TMTape('x0xyy0=0.', 8))\n",
                        "TMConfiguration('q6', TMTape('x0xyy0=00', 7))\n",
                        "TMConfiguration('q6', TMTape('x0xyy0=00', 6))\n",
                        "TMConfiguration('q7', TMTape('x0xyy0=00', 5))\n",
                        "TMConfiguration('q7', TMTape('x0xyy0=00', 4))\n",
                        "TMConfiguration('q8', TMTape('x0xyy0=00', 5))\n",
                        "TMConfiguration('q4', TMTape('x0xyyy=00', 6))\n",
                        "TMConfiguration('q5', TMTape('x0xyyy=00', 7))\n",
                        "TMConfiguration('q5', TMTape('x0xyyy=00', 8))\n",
                        "TMConfiguration('q5', TMTape('x0xyyy=00.', 9))\n",
                        "TMConfiguration('q6', TMTape('x0xyyy=000', 8))\n",
                        "TMConfiguration('q6', TMTape('x0xyyy=000', 7))\n",
                        "TMConfiguration('q6', TMTape('x0xyyy=000', 6))\n",
                        "TMConfiguration('q7', TMTape('x0xyyy=000', 5))\n",
                        "TMConfiguration('q8', TMTape('x0xyyy=000', 6))\n",
                        "TMConfiguration('q3', TMTape('x0xyyy=000', 5))\n",
                        "TMConfiguration('q3', TMTape('x0xyy0=000', 4))\n",
                        "TMConfiguration('q3', TMTape('x0xy00=000', 3))\n",
                        "TMConfiguration('q3', TMTape('x0x000=000', 2))\n",
                        "TMConfiguration('q9', TMTape('x0x000=000', 1))\n",
                        "TMConfiguration('q9', TMTape('x0x000=000', 0))\n",
                        "TMConfiguration('q0', TMTape('x0x000=000', 1))\n",
                        "TMConfiguration('q1', TMTape('xxx000=000', 2))\n",
                        "TMConfiguration('q2', TMTape('xxx000=000', 3))\n",
                        "TMConfiguration('q4', TMTape('xxxy00=000', 4))\n",
                        "TMConfiguration('q4', TMTape('xxxy00=000', 5))\n",
                        "TMConfiguration('q4', TMTape('xxxy00=000', 6))\n",
                        "TMConfiguration('q5', TMTape('xxxy00=000', 7))\n",
                        "TMConfiguration('q5', TMTape('xxxy00=000', 8))\n",
                        "TMConfiguration('q5', TMTape('xxxy00=000', 9))\n",
                        "TMConfiguration('q5', TMTape('xxxy00=000.', 10))\n",
                        "TMConfiguration('q6', TMTape('xxxy00=0000', 9))\n",
                        "TMConfiguration('q6', TMTape('xxxy00=0000', 8))\n",
                        "TMConfiguration('q6', TMTape('xxxy00=0000', 7))\n",
                        "TMConfiguration('q6', TMTape('xxxy00=0000', 6))\n",
                        "TMConfiguration('q7', TMTape('xxxy00=0000', 5))\n",
                        "TMConfiguration('q7', TMTape('xxxy00=0000', 4))\n",
                        "TMConfiguration('q7', TMTape('xxxy00=0000', 3))\n",
                        "TMConfiguration('q8', TMTape('xxxy00=0000', 4))\n",
                        "TMConfiguration('q4', TMTape('xxxyy0=0000', 5))\n",
                        "TMConfiguration('q4', TMTape('xxxyy0=0000', 6))\n",
                        "TMConfiguration('q5', TMTape('xxxyy0=0000', 7))\n",
                        "TMConfiguration('q5', TMTape('xxxyy0=0000', 8))\n",
                        "TMConfiguration('q5', TMTape('xxxyy0=0000', 9))\n",
                        "TMConfiguration('q5', TMTape('xxxyy0=0000', 10))\n",
                        "TMConfiguration('q5', TMTape('xxxyy0=0000.', 11))\n",
                        "TMConfiguration('q6', TMTape('xxxyy0=00000', 10))\n",
                        "TMConfiguration('q6', TMTape('xxxyy0=00000', 9))\n",
                        "TMConfiguration('q6', TMTape('xxxyy0=00000', 8))\n",
                        "TMConfiguration('q6', TMTape('xxxyy0=00000', 7))\n",
                        "TMConfiguration('q6', TMTape('xxxyy0=00000', 6))\n",
                        "TMConfiguration('q7', TMTape('xxxyy0=00000', 5))\n",
                        "TMConfiguration('q7', TMTape('xxxyy0=00000', 4))\n",
                        "TMConfiguration('q8', TMTape('xxxyy0=00000', 5))\n",
                        "TMConfiguration('q4', TMTape('xxxyyy=00000', 6))\n",
                        "TMConfiguration('q5', TMTape('xxxyyy=00000', 7))\n",
                        "TMConfiguration('q5', TMTape('xxxyyy=00000', 8))\n",
                        "TMConfiguration('q5', TMTape('xxxyyy=00000', 9))\n",
                        "TMConfiguration('q5', TMTape('xxxyyy=00000', 10))\n",
                        "TMConfiguration('q5', TMTape('xxxyyy=00000', 11))\n",
                        "TMConfiguration('q5', TMTape('xxxyyy=00000.', 12))\n",
                        "TMConfiguration('q6', TMTape('xxxyyy=000000', 11))\n",
                        "TMConfiguration('q6', TMTape('xxxyyy=000000', 10))\n",
                        "TMConfiguration('q6', TMTape('xxxyyy=000000', 9))\n",
                        "TMConfiguration('q6', TMTape('xxxyyy=000000', 8))\n",
                        "TMConfiguration('q6', TMTape('xxxyyy=000000', 7))\n",
                        "TMConfiguration('q6', TMTape('xxxyyy=000000', 6))\n",
                        "TMConfiguration('q7', TMTape('xxxyyy=000000', 5))\n",
                        "TMConfiguration('q8', TMTape('xxxyyy=000000', 6))\n",
                        "TMConfiguration('q3', TMTape('xxxyyy=000000', 5))\n",
                        "TMConfiguration('q3', TMTape('xxxyy0=000000', 4))\n",
                        "TMConfiguration('q3', TMTape('xxxy00=000000', 3))\n",
                        "TMConfiguration('q3', TMTape('xxx000=000000', 2))\n",
                        "TMConfiguration('q9', TMTape('xxx000=000000', 1))\n",
                        "TMConfiguration('q0', TMTape('xxx000=000000', 2))\n",
                        "TMConfiguration('q11', TMTape('xxx000=000000', 1))\n",
                        "TMConfiguration('q11', TMTape('x0x000=000000', 0))\n",
                        "TMConfiguration('q11', TMTape('.00x000=000000', 0))\n",
                        "TMConfiguration('q12', TMTape('.00x000=000000', 1))\n"
                    ]
                }
            ],
            "source": [
                "dtm = DTM(\n",
                "    states={\n",
                "        \"q0\",\n",
                "        \"q1\",\n",
                "        \"q2\",\n",
                "        \"q3\",\n",
                "        \"q4\",\n",
                "        \"q5\",\n",
                "        \"q6\",\n",
                "        \"q7\",\n",
                "        \"q8\",\n",
                "        \"q9\",\n",
                "        \"q10\",\n",
                "        \"q11\",\n",
                "        \"q12\",\n",
                "    },\n",
                "    input_symbols={\"0\", \"x\", \"=\"},\n",
                "    tape_symbols={\"0\", \"x\", \"y\", \".\", \"=\"},\n",
                "    transitions={\n",
                "        \"q0\": {\"0\": (\"q1\", \"x\", \"R\"), \"x\": (\"q11\", \"x\", \"L\")},\n",
                "        \"q1\": {\"0\": (\"q1\", \"0\", \"R\"), \"x\": (\"q2\", \"x\", \"R\")},\n",
                "        \"q2\": {\"=\": (\"q3\", \"=\", \"L\"), \"0\": (\"q4\", \"y\", \"R\")},\n",
                "        \"q3\": {\"y\": (\"q3\", \"0\", \"L\"), \"x\": (\"q9\", \"x\", \"L\")},\n",
                "        \"q4\": {\"0\": (\"q4\", \"0\", \"R\"), \"=\": (\"q5\", \"=\", \"R\")},\n",
                "        \"q5\": {\"0\": (\"q5\", \"0\", \"R\"), \".\": (\"q6\", \"0\", \"L\")},\n",
                "        \"q6\": {\"0\": (\"q6\", \"0\", \"L\"), \"=\": (\"q7\", \"=\", \"L\")},\n",
                "        \"q7\": {\"0\": (\"q7\", \"0\", \"L\"), \"y\": (\"q8\", \"y\", \"R\")},\n",
                "        \"q8\": {\"0\": (\"q4\", \"y\", \"R\"), \"=\": (\"q3\", \"=\", \"L\")},\n",
                "        \"q9\": {\"0\": (\"q9\", \"0\", \"L\"), \"x\": (\"q0\", \"x\", \"R\")},\n",
                "        \"q11\": {\"x\": (\"q11\", \"0\", \"L\"), \".\": (\"q12\", \".\", \"R\")},\n",
                "    },\n",
                "    initial_state=\"q0\",\n",
                "    blank_symbol=\".\",\n",
                "    final_states={\"q12\"},\n",
                ")\n",
                "\n",
                "for step in list(dtm.read_input_stepwise(\"00x000=\")):\n",
                "    print(step)\n"
            ]
        },
        {
            "cell_type": "markdown",
            "metadata": {},
            "source": [
                "## Exponentiation"
            ]
        },
        {
            "cell_type": "code",
            "execution_count": 10,
            "metadata": {},
            "outputs": [
                {
                    "ename": "NotImplementedError",
                    "evalue": "",
                    "output_type": "error",
                    "traceback": [
                        "\u001b[1;31m---------------------------------------------------------------------------\u001b[0m",
                        "\u001b[1;31mNotImplementedError\u001b[0m                       Traceback (most recent call last)",
                        "Cell \u001b[1;32mIn[10], line 5\u001b[0m\n\u001b[0;32m      1\u001b[0m \u001b[39mdef\u001b[39;00m \u001b[39mexponentiation\u001b[39m(base: \u001b[39mint\u001b[39m, exponent: \u001b[39mint\u001b[39m) \u001b[39m-\u001b[39m\u001b[39m>\u001b[39m \u001b[39mfloat\u001b[39m:\n\u001b[0;32m      2\u001b[0m     \u001b[39mraise\u001b[39;00m \u001b[39mNotImplementedError\u001b[39;00m\n\u001b[1;32m----> 5\u001b[0m \u001b[39massert\u001b[39;00m exponentiation(\u001b[39m1\u001b[39;49m, \u001b[39m0\u001b[39;49m) \u001b[39m==\u001b[39m \u001b[39m1\u001b[39m\n\u001b[0;32m      6\u001b[0m \u001b[39massert\u001b[39;00m exponentiation(\u001b[39m0\u001b[39m, \u001b[39m1\u001b[39m) \u001b[39m==\u001b[39m \u001b[39m0\u001b[39m\n\u001b[0;32m      7\u001b[0m \u001b[39massert\u001b[39;00m exponentiation(\u001b[39m3\u001b[39m, \u001b[39m3\u001b[39m) \u001b[39m==\u001b[39m \u001b[39m27\u001b[39m\n",
                        "Cell \u001b[1;32mIn[10], line 2\u001b[0m, in \u001b[0;36mexponentiation\u001b[1;34m(base, exponent)\u001b[0m\n\u001b[0;32m      1\u001b[0m \u001b[39mdef\u001b[39;00m \u001b[39mexponentiation\u001b[39m(base: \u001b[39mint\u001b[39m, exponent: \u001b[39mint\u001b[39m) \u001b[39m-\u001b[39m\u001b[39m>\u001b[39m \u001b[39mfloat\u001b[39m:\n\u001b[1;32m----> 2\u001b[0m     \u001b[39mraise\u001b[39;00m \u001b[39mNotImplementedError\u001b[39;00m\n",
                        "\u001b[1;31mNotImplementedError\u001b[0m: "
                    ]
                }
            ],
            "source": [
                "def exponentiation(base: int, exponent: int) -> float:\n",
                "    raise NotImplementedError\n",
                "\n",
                "\n",
                "assert exponentiation(1, 0) == 1\n",
                "assert exponentiation(0, 1) == 0\n",
                "assert exponentiation(3, 3) == 27\n"
            ]
        },
        {
            "cell_type": "code",
            "execution_count": null,
            "metadata": {},
            "outputs": [],
            "source": []
        }
    ],
    "metadata": {
        "kernelspec": {
            "display_name": "Python 3.10.4 ('.venv': venv)",
            "language": "python",
            "name": "python3"
        },
        "language_info": {
            "codemirror_mode": {
                "name": "ipython",
                "version": 3
            },
            "file_extension": ".py",
            "mimetype": "text/x-python",
            "name": "python",
            "nbconvert_exporter": "python",
            "pygments_lexer": "ipython3",
            "version": "3.9.13"
        },
        "orig_nbformat": 4,
        "vscode": {
            "interpreter": {
                "hash": "a3349956cd5f31eb09cfa8ab65ba9774bc4eb05174a2fc2b960d18a93fca386a"
            }
        }
    },
    "nbformat": 4,
    "nbformat_minor": 2
}
