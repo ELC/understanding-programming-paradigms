{
    "cells": [
        {
            "cell_type": "markdown",
            "metadata": {},
            "source": [
                "# Data Oriented Paradigm"
            ]
        },
        {
            "cell_type": "markdown",
            "metadata": {},
            "source": [
                "## Initial Set-Up"
            ]
        },
        {
            "cell_type": "code",
            "execution_count": 21,
            "metadata": {},
            "outputs": [],
            "source": [
                "from pyrsistent import PRecord, field\n",
                "\n",
                "class SinglePoint(PRecord):\n",
                "    a: int = field(mandatory=True)\n",
                "\n",
                "class DoublePoint(PRecord):\n",
                "    a: SinglePoint = field(mandatory=True)\n",
                "    b: SinglePoint = field(mandatory=True)"
            ]
        },
        {
            "cell_type": "markdown",
            "metadata": {},
            "source": [
                "## Predecessor and Successor"
            ]
        },
        {
            "cell_type": "code",
            "execution_count": 35,
            "metadata": {},
            "outputs": [],
            "source": [
                "def predecessor(single_point: SinglePoint) -> SinglePoint:\n",
                "    result = single_point.a - 1\n",
                "    return SinglePoint(a=result)\n",
                "\n",
                "\n",
                "assert predecessor(SinglePoint(a=1)) == SinglePoint(a=0)\n",
                "assert predecessor(SinglePoint(a=10)) == SinglePoint(a=9)\n"
            ]
        },
        {
            "cell_type": "code",
            "execution_count": 36,
            "metadata": {},
            "outputs": [],
            "source": [
                "def successor(single_point: SinglePoint) -> SinglePoint:\n",
                "    result = single_point.a + 1\n",
                "    return SinglePoint(a=result)\n",
                "\n",
                "\n",
                "assert successor(SinglePoint(a=0)) == SinglePoint(a=1)\n",
                "assert successor(SinglePoint(a=10)) == SinglePoint(a=11)\n"
            ]
        },
        {
            "cell_type": "markdown",
            "metadata": {},
            "source": [
                "## Addition"
            ]
        },
        {
            "cell_type": "code",
            "execution_count": 37,
            "metadata": {},
            "outputs": [],
            "source": [
                "def addition(addends: DoublePoint) -> SinglePoint:\n",
                "    result = addends.a\n",
                "    for _ in range(addends.b.a):\n",
                "        result = successor(result)\n",
                "    return result\n",
                "\n",
                "\n",
                "assert addition(DoublePoint(a=SinglePoint(a=0), b=SinglePoint(a=0))) == SinglePoint(a=0)\n",
                "assert addition(DoublePoint(a=SinglePoint(a=1), b=SinglePoint(a=0))) == SinglePoint(a=1)\n",
                "assert addition(DoublePoint(a=SinglePoint(a=0), b=SinglePoint(a=1))) == SinglePoint(a=1)\n",
                "assert addition(DoublePoint(a=SinglePoint(a=10), b=SinglePoint(a=10))) == SinglePoint(a=20)\n"
            ]
        },
        {
            "cell_type": "markdown",
            "metadata": {},
            "source": [
                "## Multiplication"
            ]
        },
        {
            "cell_type": "code",
            "execution_count": 56,
            "metadata": {},
            "outputs": [],
            "source": [
                "def multiplication(factors: DoublePoint) -> SinglePoint:\n",
                "    result = SinglePoint(a=0)\n",
                "    \n",
                "    if factors.a.a == 0 or factors.b.a == 0:\n",
                "        return result\n",
                "\n",
                "    for _ in range(factors.b.a):\n",
                "        result = addition(DoublePoint(a=result, b=factors.a))\n",
                "\n",
                "    return result\n",
                "\n",
                "\n",
                "assert multiplication(DoublePoint(a=SinglePoint(a=0), b=SinglePoint(a=0))) == SinglePoint(a=0)\n",
                "assert multiplication(DoublePoint(a=SinglePoint(a=2), b=SinglePoint(a=0))) == SinglePoint(a=0)\n",
                "assert multiplication(DoublePoint(a=SinglePoint(a=0), b=SinglePoint(a=2))) == SinglePoint(a=0)\n",
                "assert multiplication(DoublePoint(a=SinglePoint(a=10), b=SinglePoint(a=10))) == SinglePoint(a=100)\n"
            ]
        },
        {
            "cell_type": "markdown",
            "metadata": {},
            "source": [
                "## Exponentiation"
            ]
        },
        {
            "cell_type": "code",
            "execution_count": 57,
            "metadata": {},
            "outputs": [],
            "source": [
                "def exponentiation(base: SinglePoint, exponent: SinglePoint) -> SinglePoint:\n",
                "    result = SinglePoint(a=1)\n",
                "    for _ in range(exponent.a):\n",
                "        result = multiplication(DoublePoint(a=result, b=base))\n",
                "    return result\n",
                "\n",
                "\n",
                "assert exponentiation(SinglePoint(a=1), SinglePoint(a=0)) == SinglePoint(a=1), exponentiation(SinglePoint(a=3), SinglePoint(a=3))\n",
                "assert exponentiation(SinglePoint(a=0), SinglePoint(a=1)) == SinglePoint(a=0), exponentiation(SinglePoint(a=3), SinglePoint(a=3))\n",
                "assert exponentiation(SinglePoint(a=3), SinglePoint(a=3)) == SinglePoint(a=27), exponentiation(SinglePoint(a=3), SinglePoint(a=3))\n"
            ]
        },
        {
            "cell_type": "code",
            "execution_count": null,
            "metadata": {},
            "outputs": [],
            "source": []
        }
    ],
    "metadata": {
        "kernelspec": {
            "display_name": "Python 3.10.4 ('.venv': venv)",
            "language": "python",
            "name": "python3"
        },
        "language_info": {
            "codemirror_mode": {
                "name": "ipython",
                "version": 3
            },
            "file_extension": ".py",
            "mimetype": "text/x-python",
            "name": "python",
            "nbconvert_exporter": "python",
            "pygments_lexer": "ipython3",
            "version": "3.10.4"
        },
        "orig_nbformat": 4,
        "vscode": {
            "interpreter": {
                "hash": "a3349956cd5f31eb09cfa8ab65ba9774bc4eb05174a2fc2b960d18a93fca386a"
            }
        }
    },
    "nbformat": 4,
    "nbformat_minor": 2
}
