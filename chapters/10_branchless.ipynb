{
    "cells": [
        {
            "cell_type": "markdown",
            "metadata": {},
            "source": [
                "# Branchless Paradigm"
            ]
        },
        {
            "cell_type": "markdown",
            "metadata": {},
            "source": [
                "## Auxiliary Functions"
            ]
        },
        {
            "cell_type": "code",
            "execution_count": 2,
            "metadata": {},
            "outputs": [],
            "source": [
                "def equal_to(x: int, y: int) -> bool:\n",
                "    return x == y\n",
                "\n",
                "\n",
                "assert equal_to(1, 1)\n",
                "assert not equal_to(1, 2)\n"
            ]
        },
        {
            "cell_type": "markdown",
            "metadata": {},
            "source": [
                "## Predecessor and Successor"
            ]
        },
        {
            "cell_type": "code",
            "execution_count": 9,
            "metadata": {},
            "outputs": [],
            "source": [
                "def predecessor(x: int) -> int:\n",
                "    equal = equal_to(x, 1)\n",
                "    return (equal and 0) or ((not equal) and (1 + predecessor(x - 1)))\n",
                "\n",
                "\n",
                "assert predecessor(1) == 0\n",
                "assert predecessor(10) == 9\n"
            ]
        },
        {
            "cell_type": "code",
            "execution_count": 10,
            "metadata": {},
            "outputs": [],
            "source": [
                "def successor(x: int) -> int:\n",
                "    equal = equal_to(x, 0)\n",
                "    return (equal and 1) or ((not equal) and (1 + successor(predecessor(x))))\n",
                "\n",
                "\n",
                "assert successor(0) == 1\n",
                "assert successor(10) == 11\n"
            ]
        },
        {
            "cell_type": "markdown",
            "metadata": {},
            "source": [
                "## Addition"
            ]
        },
        {
            "cell_type": "code",
            "execution_count": 11,
            "metadata": {},
            "outputs": [],
            "source": [
                "def addition(x: int, y: int) -> int:\n",
                "    equal = equal_to(y, 0)\n",
                "    return (equal and x) or ((not equal) and (addition(successor(x), predecessor(y))))\n",
                "\n",
                "\n",
                "assert addition(0, 0) == 0\n",
                "assert addition(1, 0) == 1\n",
                "assert addition(0, 1) == 1\n",
                "assert addition(10, 10) == 20, addition(10, 10)\n"
            ]
        },
        {
            "cell_type": "markdown",
            "metadata": {},
            "source": [
                "## Multiplication"
            ]
        },
        {
            "cell_type": "code",
            "execution_count": 16,
            "metadata": {},
            "outputs": [],
            "source": [
                "def multiplication(x: int, y: int) -> int:\n",
                "    equal_0 = equal_to(y, 0)\n",
                "    return (equal_0 and 0) or (\n",
                "        not equal_0 and (addition(x, multiplication(x, predecessor(y))))\n",
                "    )\n",
                "\n",
                "\n",
                "assert multiplication(0, 0) == 0\n",
                "assert multiplication(2, 0) == 0\n",
                "assert multiplication(0, 2) == 0\n",
                "assert multiplication(10, 10) == 100\n"
            ]
        },
        {
            "cell_type": "markdown",
            "metadata": {},
            "source": [
                "## Exponentiation"
            ]
        },
        {
            "cell_type": "code",
            "execution_count": 19,
            "metadata": {},
            "outputs": [],
            "source": [
                "def exponentiation(x: int, y: int) -> int:\n",
                "    x_equal_0 = equal_to(x, 0)\n",
                "    y_equal_0 = equal_to(y, 0)\n",
                "    return (\n",
                "        (x_equal_0 and 0)\n",
                "        or (not x_equal_0 and y_equal_0 and 1)\n",
                "        or (\n",
                "            not x_equal_0\n",
                "            and not y_equal_0\n",
                "            and multiplication(x, exponentiation(x, predecessor(y)))\n",
                "        )\n",
                "    )\n",
                "\n",
                "\n",
                "assert exponentiation(1, 0) == 1\n",
                "assert exponentiation(0, 1) == 0\n",
                "assert exponentiation(3, 3) == 27\n"
            ]
        }
    ],
    "metadata": {
        "kernelspec": {
            "display_name": "Python 3.10.4 ('.venv': venv)",
            "language": "python",
            "name": "python3"
        },
        "language_info": {
            "codemirror_mode": {
                "name": "ipython",
                "version": 3
            },
            "file_extension": ".py",
            "mimetype": "text/x-python",
            "name": "python",
            "nbconvert_exporter": "python",
            "pygments_lexer": "ipython3",
            "version": "3.10.4"
        },
        "orig_nbformat": 4,
        "vscode": {
            "interpreter": {
                "hash": "a3349956cd5f31eb09cfa8ab65ba9774bc4eb05174a2fc2b960d18a93fca386a"
            }
        }
    },
    "nbformat": 4,
    "nbformat_minor": 2
}
