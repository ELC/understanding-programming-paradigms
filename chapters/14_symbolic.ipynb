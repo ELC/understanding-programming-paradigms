{
    "cells": [
        {
            "attachments": {},
            "cell_type": "markdown",
            "metadata": {},
            "source": [
                "# Symbolic Paradigm"
            ]
        },
        {
            "attachments": {},
            "cell_type": "markdown",
            "metadata": {},
            "source": [
                "## Initial Set-Up"
            ]
        },
        {
            "cell_type": "code",
            "execution_count": 1,
            "metadata": {},
            "outputs": [],
            "source": [
                "import sympy as sp\n",
                "\n",
                "x, y = sp.symbols(\"x, y\")\n"
            ]
        },
        {
            "cell_type": "markdown",
            "metadata": {},
            "source": [
                "## Predecessor and Successor"
            ]
        },
        {
            "cell_type": "code",
            "execution_count": 2,
            "metadata": {},
            "outputs": [],
            "source": [
                "def predecessor(a: sp.Symbol) -> sp.Expr:\n",
                "    return a - 1\n",
                "\n",
                "\n",
                "assert predecessor(x).subs(x, 1) == 0\n",
                "assert predecessor(x).subs(x, 10) == 9\n"
            ]
        },
        {
            "cell_type": "code",
            "execution_count": 3,
            "metadata": {},
            "outputs": [],
            "source": [
                "def successor(a: sp.Symbol) -> sp.Expr:\n",
                "    return a + 1\n",
                "\n",
                "\n",
                "assert successor(x).subs(x, 0) == 1\n",
                "assert successor(x).subs(x, 10) == 11\n"
            ]
        },
        {
            "cell_type": "markdown",
            "metadata": {},
            "source": [
                "## Addition"
            ]
        },
        {
            "cell_type": "code",
            "execution_count": 4,
            "metadata": {},
            "outputs": [],
            "source": [
                "def addition(addend_1: sp.Symbol, addend_2: sp.Symbol) -> sp.Expr:\n",
                "    return addend_1 + addend_2\n",
                "\n",
                "\n",
                "assert addition(x, y).subs({x: 0, y: 0}) == 0\n",
                "assert addition(x, y).subs({x: 1, y: 0}) == 1\n",
                "assert addition(x, y).subs({x: 0, y: 1}) == 1\n",
                "assert addition(x, y).subs({x: 10, y: 10}) == 20\n"
            ]
        },
        {
            "cell_type": "markdown",
            "metadata": {},
            "source": [
                "## Multiplication"
            ]
        },
        {
            "cell_type": "code",
            "execution_count": 5,
            "metadata": {},
            "outputs": [],
            "source": [
                "def multiplication(multiplicand: sp.Symbol, multiplier: sp.Symbol) -> sp.Expr:\n",
                "    return multiplicand * multiplier\n",
                "\n",
                "\n",
                "assert multiplication(x, y).subs({x: 0, y: 0}) == 0\n",
                "assert multiplication(x, y).subs({x: 2, y: 0}) == 0\n",
                "assert multiplication(x, y).subs({x: 0, y: 2}) == 0\n",
                "assert multiplication(x, y).subs({x: 10, y: 10}) == 100\n"
            ]
        },
        {
            "cell_type": "markdown",
            "metadata": {},
            "source": [
                "## Exponentiation"
            ]
        },
        {
            "cell_type": "code",
            "execution_count": 7,
            "metadata": {},
            "outputs": [
                {
                    "name": "stdout",
                    "output_type": "stream",
                    "text": [
                        "x**y\n"
                    ]
                }
            ],
            "source": [
                "def exponentiation(base: sp.Symbol, exponent: sp.Symbol) -> sp.Expr:\n",
                "    return base**exponent\n",
                "\n",
                "\n",
                "assert exponentiation(x, y).subs({x: 1, y: 0}) == 1\n",
                "assert exponentiation(x, y).subs({x: 0, y: 1}) == 0\n",
                "assert exponentiation(x, y).subs({x: 3, y: 3}) == 27\n"
            ]
        },
        {
            "cell_type": "code",
            "execution_count": null,
            "metadata": {},
            "outputs": [],
            "source": []
        }
    ],
    "metadata": {
        "kernelspec": {
            "display_name": "Python 3.10.4 ('.venv': venv)",
            "language": "python",
            "name": "python3"
        },
        "language_info": {
            "codemirror_mode": {
                "name": "ipython",
                "version": 3
            },
            "file_extension": ".py",
            "mimetype": "text/x-python",
            "name": "python",
            "nbconvert_exporter": "python",
            "pygments_lexer": "ipython3",
            "version": "3.10.4"
        },
        "orig_nbformat": 4,
        "vscode": {
            "interpreter": {
                "hash": "a3349956cd5f31eb09cfa8ab65ba9774bc4eb05174a2fc2b960d18a93fca386a"
            }
        }
    },
    "nbformat": 4,
    "nbformat_minor": 2
}
