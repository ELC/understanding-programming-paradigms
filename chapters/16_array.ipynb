{
    "cells": [
        {
            "attachments": {},
            "cell_type": "markdown",
            "metadata": {},
            "source": [
                "# Array Paradigm"
            ]
        },
        {
            "cell_type": "markdown",
            "metadata": {},
            "source": [
                "## Initial Set-Up"
            ]
        },
        {
            "cell_type": "code",
            "execution_count": null,
            "metadata": {},
            "outputs": [],
            "source": [
                "import numpy as np\n"
            ]
        },
        {
            "cell_type": "markdown",
            "metadata": {},
            "source": [
                "## Predecessor and Successor"
            ]
        },
        {
            "cell_type": "code",
            "execution_count": null,
            "metadata": {},
            "outputs": [],
            "source": [
                "def predecessor(a: int) -> int:\n",
                "    return np.add(a, -1)\n",
                "\n",
                "\n",
                "assert predecessor(1) == 0\n",
                "assert predecessor(10) == 9\n"
            ]
        },
        {
            "cell_type": "code",
            "execution_count": null,
            "metadata": {},
            "outputs": [],
            "source": [
                "def successor(a: int) -> int:\n",
                "    return np.add(a, 1)\n",
                "\n",
                "\n",
                "assert successor(0) == 1\n",
                "assert successor(10) == 11\n"
            ]
        },
        {
            "cell_type": "markdown",
            "metadata": {},
            "source": [
                "## Addition"
            ]
        },
        {
            "cell_type": "code",
            "execution_count": null,
            "metadata": {},
            "outputs": [],
            "source": [
                "def addition(addend_1: int, addend_2: int) -> int:\n",
                "    return np.add(addend_1, addend_2)\n",
                "\n",
                "\n",
                "assert addition(0, 0) == 0\n",
                "assert addition(1, 0) == 1\n",
                "assert addition(0, 1) == 1\n",
                "assert addition(10, 10) == 20\n"
            ]
        },
        {
            "cell_type": "markdown",
            "metadata": {},
            "source": [
                "## Multiplication"
            ]
        },
        {
            "cell_type": "code",
            "execution_count": null,
            "metadata": {},
            "outputs": [],
            "source": [
                "def multiplication(multiplicand: int, multiplier: int) -> int:\n",
                "    return np.multiply(multiplicand, multiplier)\n",
                "\n",
                "\n",
                "assert multiplication(0, 0) == 0\n",
                "assert multiplication(2, 0) == 0\n",
                "assert multiplication(0, 2) == 0\n",
                "assert multiplication(10, 10) == 100\n"
            ]
        },
        {
            "cell_type": "markdown",
            "metadata": {},
            "source": [
                "## Exponentiation"
            ]
        },
        {
            "cell_type": "code",
            "execution_count": null,
            "metadata": {},
            "outputs": [],
            "source": [
                "def exponentiation(base: int, exponent: int) -> float:\n",
                "    return np.power(base, exponent)\n",
                "\n",
                "\n",
                "assert exponentiation(1, 0) == 1\n",
                "assert exponentiation(0, 1) == 0\n",
                "assert exponentiation(3, 3) == 27\n"
            ]
        },
        {
            "attachments": {},
            "cell_type": "markdown",
            "metadata": {},
            "source": [
                "## What is the particularity of the Array Paradigm?"
            ]
        },
        {
            "cell_type": "code",
            "execution_count": null,
            "metadata": {},
            "outputs": [],
            "source": [
                "from typing import List\n",
                "import matplotlib.pyplot as plt\n",
                "import matplotlib as mpl\n",
                "import perfplot\n",
                "import pandas as pd\n",
                "import seaborn as sns\n",
                "\n",
                "\n",
                "Y_TICKS = [10**k for k in range(-6, 3)]\n",
                "Y_TICKS_LABELS = [\n",
                "    \"1 µs\",\n",
                "    \"10 µs\",\n",
                "    \"100 µs\",\n",
                "    \"1 ms\",\n",
                "    \"10 ms\",\n",
                "    \"100 ms\",\n",
                "    \"1 s\",\n",
                "    \"10 s\",\n",
                "    \"100 s\",\n",
                "]\n",
                "\n",
                "assert len(Y_TICKS) == len(Y_TICKS_LABELS)\n",
                "\n",
                "\n",
                "def plot_results(data, differences):\n",
                "    mpl.rcParams.update(mpl.rcParamsDefault)\n",
                "    plt.style.use(\"bmh\")\n",
                "    plt.rcParams[\"figure.figsize\"] = 16, 9\n",
                "\n",
                "    fig, axes = plt.subplots(2, 1)\n",
                "\n",
                "    ax = axes[0]\n",
                "    sns.lineplot(x=\"x\", y=\"values\", hue=\"label\", data=data, ax=ax)\n",
                "\n",
                "    ax.set_xlabel(\"Array Size\")\n",
                "    ax.set_xticks(data[\"x\"])\n",
                "    ax.set_xscale(\"log\", base=10)\n",
                "\n",
                "    ax.set_ylabel(\"Execution Time\")\n",
                "    ax.set_yscale(\"log\", base=10)\n",
                "    ax.set_yticks(Y_TICKS)\n",
                "    ax.set_yticklabels(Y_TICKS_LABELS)\n",
                "\n",
                "    ax.legend(loc=\"lower right\")\n",
                "\n",
                "    ax = axes[1]\n",
                "    sns.lineplot(x=\"x\", y=\"values\", data=differences, ax=ax)\n",
                "\n",
                "    ax.set_xlabel(\"Array Size\")\n",
                "    ax.set_xticks(data[\"x\"])\n",
                "    ax.set_xscale(\"log\", base=10)\n",
                "\n",
                "    ax.set_ylabel(\"Relative Speed Up\")\n",
                "\n",
                "    plt.tight_layout()\n",
                "    plt.show()\n",
                "\n",
                "\n",
                "def compute_differences(data):\n",
                "    return (\n",
                "        data.groupby([\"x\", \"label\"])\n",
                "        .agg({\"values\": np.mean})\n",
                "        .groupby(\"x\")[\"values\"]\n",
                "        .transform(lambda x: x.max() / x.min())\n",
                "        .reset_index()\n",
                "        .drop(\"label\", axis=1)\n",
                "        .drop_duplicates()\n",
                "    )\n",
                "\n",
                "\n",
                "def run_benchmark(setup, kernels, n_range, replicates):\n",
                "    perfplot_params = dict(\n",
                "        setup=setup,\n",
                "        kernels=kernels,\n",
                "        labels=[\"Pure Python\", \"Numpy\"],\n",
                "        n_range=n_range,\n",
                "        xlabel=\"Array Size\",\n",
                "    )\n",
                "\n",
                "    data_dicts = []\n",
                "\n",
                "    for _ in range(replicates):\n",
                "        out = perfplot.bench(**perfplot_params)\n",
                "\n",
                "        for t, label in zip(out.timings_s, out.labels):\n",
                "            data = {\"x\": out.n_range, \"values\": t, \"label\": [label] * len(out.n_range)}\n",
                "            data_dicts.append(data)\n",
                "\n",
                "    return pd.DataFrame(data_dicts).explode([\"x\", \"values\", \"label\"])\n"
            ]
        },
        {
            "cell_type": "code",
            "execution_count": null,
            "metadata": {},
            "outputs": [],
            "source": [
                "def multiplication_pure_python(\n",
                "    multiplicands: List[int], multipliers: List[int]\n",
                ") -> List[int]:\n",
                "    return [\n",
                "        multiplicand * multiplier\n",
                "        for multiplicand, multiplier in zip(multiplicands, multipliers)\n",
                "    ]\n"
            ]
        },
        {
            "cell_type": "code",
            "execution_count": null,
            "metadata": {},
            "outputs": [],
            "source": [
                "setup = lambda n: np.random.rand(2, n).tolist()\n",
                "\n",
                "kernels = [\n",
                "    lambda x: multiplication_pure_python(x[0], x[1]),\n",
                "    lambda x: multiplication(x[0], x[1]),\n",
                "]\n",
                "\n",
                "n_range = [2**k for k in range(1, 28)]\n",
                "\n",
                "df_multiplication = run_benchmark(setup, kernels, n_range, replicates=3)\n",
                "relative_difference_multiplication = compute_differences(df_multiplication)\n"
            ]
        },
        {
            "cell_type": "code",
            "execution_count": null,
            "metadata": {},
            "outputs": [],
            "source": [
                "plot_results(df_multiplication, relative_difference_multiplication)\n"
            ]
        },
        {
            "cell_type": "code",
            "execution_count": null,
            "metadata": {},
            "outputs": [],
            "source": [
                "def matrix_multiplication(m1: List[List[int]], m2: List[List[int]]) -> np.ndarray:\n",
                "    return np.matmul(m1, m2)\n",
                "\n",
                "\n",
                "def matrix_multiplication_pure_python(\n",
                "    m1: List[List[int]], m2: List[List[int]]\n",
                ") -> List[List[int]]:\n",
                "    # From https://stackoverflow.com/a/54379048/7690767\n",
                "    return [\n",
                "        [sum(x * y for x, y in zip(m1_r, m2_c)) for m2_c in zip(*m2)] for m1_r in m1\n",
                "    ]\n"
            ]
        },
        {
            "cell_type": "code",
            "execution_count": null,
            "metadata": {},
            "outputs": [],
            "source": [
                "setup = lambda n: np.random.rand(2, n, n).tolist()\n",
                "\n",
                "kernels = [\n",
                "    lambda x: matrix_multiplication_pure_python(x[0], x[1]),\n",
                "    lambda x: matrix_multiplication(x[0], x[1]),\n",
                "]\n",
                "\n",
                "n_range = [2**k for k in range(1, 11)]\n",
                "\n",
                "df_matrix_product = run_benchmark(setup, kernels, n_range, replicates=3)\n",
                "relative_difference_matrix_product = compute_differences(df_matrix_product)\n"
            ]
        },
        {
            "cell_type": "code",
            "execution_count": null,
            "metadata": {},
            "outputs": [],
            "source": [
                "plot_results(df_matrix_product, relative_difference_matrix_product)\n"
            ]
        },
        {
            "cell_type": "code",
            "execution_count": null,
            "metadata": {},
            "outputs": [],
            "source": []
        }
    ],
    "metadata": {
        "kernelspec": {
            "display_name": "Python 3.10.4 ('.venv': venv)",
            "language": "python",
            "name": "python3"
        },
        "language_info": {
            "codemirror_mode": {
                "name": "ipython",
                "version": 3
            },
            "file_extension": ".py",
            "mimetype": "text/x-python",
            "name": "python",
            "nbconvert_exporter": "python",
            "pygments_lexer": "ipython3",
            "version": "3.9.13"
        },
        "orig_nbformat": 4,
        "vscode": {
            "interpreter": {
                "hash": "a3349956cd5f31eb09cfa8ab65ba9774bc4eb05174a2fc2b960d18a93fca386a"
            }
        }
    },
    "nbformat": 4,
    "nbformat_minor": 2
}
