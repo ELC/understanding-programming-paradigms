{
    "cells": [
        {
            "cell_type": "markdown",
            "metadata": {},
            "source": [
                "# Object Oriented Paradigm"
            ]
        },
        {
            "cell_type": "markdown",
            "metadata": {},
            "source": [
                "## Initial Set-Up"
            ]
        },
        {
            "cell_type": "code",
            "execution_count": 2,
            "metadata": {},
            "outputs": [],
            "source": [
                "from dataclasses import dataclass\n",
                "from abc import ABC, abstractmethod\n",
                "\n",
                "\n",
                "class Operation(ABC):\n",
                "    @abstractmethod\n",
                "    def compute(self) -> float:\n",
                "        ...\n"
            ]
        },
        {
            "cell_type": "markdown",
            "metadata": {},
            "source": [
                "## Predecessor and Successor"
            ]
        },
        {
            "cell_type": "code",
            "execution_count": 3,
            "metadata": {},
            "outputs": [],
            "source": [
                "@dataclass\n",
                "class Predecessor(Operation):\n",
                "    a: int\n",
                "\n",
                "    def compute(self) -> int:\n",
                "        return self.a - 1\n",
                "\n",
                "\n",
                "assert Predecessor(1).compute() == 0\n",
                "assert Predecessor(10).compute() == 9\n"
            ]
        },
        {
            "cell_type": "code",
            "execution_count": 4,
            "metadata": {},
            "outputs": [],
            "source": [
                "@dataclass\n",
                "class Successor(Operation):\n",
                "    a: int\n",
                "\n",
                "    def compute(self) -> int:\n",
                "        return self.a + 1\n",
                "\n",
                "\n",
                "assert Successor(0).compute() == 1\n",
                "assert Successor(10).compute() == 11\n"
            ]
        },
        {
            "cell_type": "markdown",
            "metadata": {},
            "source": [
                "## Addition"
            ]
        },
        {
            "cell_type": "code",
            "execution_count": 8,
            "metadata": {},
            "outputs": [],
            "source": [
                "@dataclass\n",
                "class Adder(Operation):\n",
                "    addend_1: int\n",
                "    addend_2: int\n",
                "\n",
                "    def compute(self) -> int:\n",
                "        result = self.addend_1\n",
                "        for _ in range(self.addend_2):\n",
                "            result = Successor(result).compute()\n",
                "        return result\n",
                "\n",
                "\n",
                "assert Adder(0, 0).compute() == 0\n",
                "assert Adder(1, 0).compute() == 1\n",
                "assert Adder(0, 1).compute() == 1\n",
                "assert Adder(10, 10).compute() == 20\n"
            ]
        },
        {
            "cell_type": "markdown",
            "metadata": {},
            "source": [
                "## Multiplication"
            ]
        },
        {
            "cell_type": "code",
            "execution_count": 10,
            "metadata": {},
            "outputs": [],
            "source": [
                "@dataclass\n",
                "class Multiplier(Operation):\n",
                "    multiplier: int\n",
                "    multiplicand: int\n",
                "\n",
                "    def compute(self) -> int:\n",
                "        if self.multiplicand == 0 or self.multiplier == 0:\n",
                "            return 0\n",
                "\n",
                "        result = 0\n",
                "        for _ in range(self.multiplier):\n",
                "            result = Adder(result, self.multiplicand).compute()\n",
                "        return result\n",
                "\n",
                "\n",
                "assert Multiplier(0, 0).compute() == 0\n",
                "assert Multiplier(2, 0).compute() == 0\n",
                "assert Multiplier(0, 2).compute() == 0\n",
                "assert Multiplier(10, 10).compute() == 100\n"
            ]
        },
        {
            "cell_type": "markdown",
            "metadata": {},
            "source": [
                "## Exponentiation"
            ]
        },
        {
            "cell_type": "code",
            "execution_count": 13,
            "metadata": {},
            "outputs": [],
            "source": [
                "@dataclass\n",
                "class Power(Operation):\n",
                "    base: int\n",
                "    exponent: int\n",
                "\n",
                "    def compute(self) -> int:\n",
                "        result = 1\n",
                "        for _ in range(self.exponent):\n",
                "            result = Multiplier(result, self.base).compute()\n",
                "        return result\n",
                "\n",
                "\n",
                "assert Power(1, 0).compute() == 1\n",
                "assert Power(0, 1).compute() == 0\n",
                "assert Power(3, 3).compute() == 27\n"
            ]
        }
    ],
    "metadata": {
        "kernelspec": {
            "display_name": "Python 3.10.4 ('.venv': venv)",
            "language": "python",
            "name": "python3"
        },
        "language_info": {
            "codemirror_mode": {
                "name": "ipython",
                "version": 3
            },
            "file_extension": ".py",
            "mimetype": "text/x-python",
            "name": "python",
            "nbconvert_exporter": "python",
            "pygments_lexer": "ipython3",
            "version": "3.10.4"
        },
        "orig_nbformat": 4,
        "vscode": {
            "interpreter": {
                "hash": "a3349956cd5f31eb09cfa8ab65ba9774bc4eb05174a2fc2b960d18a93fca386a"
            }
        }
    },
    "nbformat": 4,
    "nbformat_minor": 2
}
