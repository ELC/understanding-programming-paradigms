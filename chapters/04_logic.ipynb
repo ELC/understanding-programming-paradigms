{
 "cells": [
  {
   "cell_type": "markdown",
   "metadata": {},
   "source": [
    "# Logic Paradigm"
   ]
  },
  {
   "cell_type": "markdown",
   "metadata": {},
   "source": [
    "## Initial Set-Up"
   ]
  },
  {
   "cell_type": "code",
   "execution_count": 2,
   "metadata": {},
   "outputs": [],
   "source": [
    "from pyDatalog import pyDatalog\n"
   ]
  },
  {
   "cell_type": "markdown",
   "metadata": {},
   "source": [
    "## Predecessor and Successor"
   ]
  },
  {
   "cell_type": "code",
   "execution_count": 3,
   "metadata": {},
   "outputs": [],
   "source": [
    "pyDatalog.create_terms(\"predecessor, N\")\n",
    "\n",
    "predecessor[1] = 0\n",
    "predecessor[N] = 1 + predecessor[N - 1]\n",
    "\n",
    "N == predecessor[1]\n",
    "assert N.v() == 0\n",
    "\n",
    "N == predecessor[10]\n",
    "assert N.v() == 9\n"
   ]
  },
  {
   "cell_type": "code",
   "execution_count": 4,
   "metadata": {},
   "outputs": [],
   "source": [
    "pyDatalog.create_terms(\"successor, N\")\n",
    "\n",
    "successor[0] = 1\n",
    "successor[N] = 1 + successor[N - 1]\n",
    "\n",
    "N == successor[0]\n",
    "assert N.v() == 1\n",
    "\n",
    "N == successor[10]\n",
    "assert N.v() == 11\n"
   ]
  },
  {
   "cell_type": "markdown",
   "metadata": {},
   "source": [
    "## Addition"
   ]
  },
  {
   "cell_type": "code",
   "execution_count": 5,
   "metadata": {},
   "outputs": [],
   "source": [
    "pyDatalog.create_terms(\"addition, X, Y\")\n",
    "\n",
    "addition[X, Y] = addition[successor[X], predecessor[Y]]\n",
    "addition[X, 0] = X\n",
    "\n",
    "N == addition[0, 0]\n",
    "assert N.v() == 0\n",
    "\n",
    "N == addition[1, 0]\n",
    "assert N.v() == 1\n",
    "\n",
    "N == addition[0, 1]\n",
    "assert N.v() == 1\n",
    "\n",
    "N == addition[10, 10]\n",
    "assert N.v() == 20\n"
   ]
  },
  {
   "cell_type": "markdown",
   "metadata": {},
   "source": [
    "## Multiplication"
   ]
  },
  {
   "cell_type": "code",
   "execution_count": 6,
   "metadata": {},
   "outputs": [],
   "source": [
    "pyDatalog.create_terms(\"multiplication, X, Y\")\n",
    "\n",
    "multiplication[X, Y] = addition[X, multiplication[X, predecessor[Y]]]\n",
    "multiplication[X, 0] = 0\n",
    "multiplication[X, 1] = X\n",
    "\n",
    "N == multiplication[0, 0]\n",
    "assert N.v() == 0\n",
    "\n",
    "N == multiplication[2, 0]\n",
    "assert N.v() == 0\n",
    "\n",
    "N == multiplication[0, 2]\n",
    "assert N.v() == 0\n",
    "\n",
    "N == multiplication[10, 10]\n",
    "assert N.v() == 100\n"
   ]
  },
  {
   "cell_type": "markdown",
   "metadata": {},
   "source": [
    "## Exponentiation"
   ]
  },
  {
   "cell_type": "code",
   "execution_count": 7,
   "metadata": {},
   "outputs": [],
   "source": [
    "pyDatalog.create_terms(\"exponentiation, X, Y\")\n",
    "\n",
    "exponentiation[X, Y] = multiplication[X, exponentiation[X, predecessor[Y]]]\n",
    "exponentiation[0, X] = 0\n",
    "exponentiation[X, 0] = 1\n",
    "\n",
    "N == exponentiation[1, 0]\n",
    "assert N.v() == 1\n",
    "\n",
    "N == exponentiation[0, 1]\n",
    "assert N.v() == 0\n",
    "\n",
    "N == exponentiation[3, 3]\n",
    "assert N.v() == 27\n"
   ]
  }
 ],
 "metadata": {
  "kernelspec": {
   "display_name": "Python 3.10.4 ('.venv': venv)",
   "language": "python",
   "name": "python3"
  },
  "language_info": {
   "codemirror_mode": {
    "name": "ipython",
    "version": 3
   },
   "file_extension": ".py",
   "mimetype": "text/x-python",
   "name": "python",
   "nbconvert_exporter": "python",
   "pygments_lexer": "ipython3",
   "version": "3.10.4"
  },
  "orig_nbformat": 4,
  "vscode": {
   "interpreter": {
    "hash": "a3349956cd5f31eb09cfa8ab65ba9774bc4eb05174a2fc2b960d18a93fca386a"
   }
  }
 },
 "nbformat": 4,
 "nbformat_minor": 2
}
