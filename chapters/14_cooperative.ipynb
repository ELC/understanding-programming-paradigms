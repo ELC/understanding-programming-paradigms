{
    "cells": [
        {
            "cell_type": "markdown",
            "metadata": {},
            "source": [
                "# Cooperative Multitasking (Asynchronous) Paradigm"
            ]
        },
        {
            "attachments": {},
            "cell_type": "markdown",
            "metadata": {},
            "source": [
                "## Initial Set Up"
            ]
        },
        {
            "cell_type": "code",
            "execution_count": 108,
            "metadata": {},
            "outputs": [],
            "source": [
                "from typing import Generator, Optional\n",
                "import itertools\n",
                "\n",
                "def repeat(a: int):\n",
                "    while True:\n",
                "        yield a"
            ]
        },
        {
            "cell_type": "markdown",
            "metadata": {},
            "source": [
                "## Predecessor and Successor"
            ]
        },
        {
            "cell_type": "code",
            "execution_count": 109,
            "metadata": {},
            "outputs": [],
            "source": [
                "def predecessor(a: int) -> Generator[int, None, None]:\n",
                "    while a >= 0:\n",
                "        a -= 1\n",
                "        yield a\n",
                "\n",
                "\n",
                "assert next(predecessor(1)) == 0\n",
                "assert next(predecessor(10)) == 9\n"
            ]
        },
        {
            "cell_type": "code",
            "execution_count": 110,
            "metadata": {},
            "outputs": [],
            "source": [
                "def successor(a: int) -> Generator[int, None, None]:\n",
                "    while True:\n",
                "        a += 1\n",
                "        yield a\n",
                "\n",
                "\n",
                "assert next(successor(0)) == 1\n",
                "assert next(successor(10)) == 11\n"
            ]
        },
        {
            "cell_type": "markdown",
            "metadata": {},
            "source": [
                "## Addition"
            ]
        },
        {
            "cell_type": "code",
            "execution_count": 111,
            "metadata": {},
            "outputs": [],
            "source": [
                "import itertools\n",
                "\n",
                "def addition(addend_1: int, addend_2: int) -> Generator[int, None, None]:\n",
                "    successor_ = successor(addend_1)    \n",
                "    result = addend_1\n",
                "    while True:\n",
                "        for _ in range(addend_2):\n",
                "            result = next(successor_)\n",
                "        yield result\n",
                "\n",
                "\n",
                "assert next(addition(0, 0)) == 0\n",
                "assert next(addition(1, 0)) == 1\n",
                "assert next(addition(0, 1)) == 1\n",
                "assert next(addition(10, 10)) == 20\n"
            ]
        },
        {
            "cell_type": "markdown",
            "metadata": {},
            "source": [
                "## Multiplication"
            ]
        },
        {
            "cell_type": "code",
            "execution_count": 112,
            "metadata": {},
            "outputs": [],
            "source": [
                "def multiplication(multiplicand: int, multiplier: int) -> Generator[int, None, None]:\n",
                "    if multiplicand == 0 or multiplier == 0:\n",
                "        yield from repeat(0)\n",
                "        \n",
                "    addition_ = addition(0, multiplier)\n",
                "    result = multiplicand\n",
                "    while True:\n",
                "        for _ in range(multiplier):\n",
                "            result = next(addition_)\n",
                "        yield result\n",
                "\n",
                "\n",
                "assert next(multiplication(0, 0)) == 0\n",
                "assert next(multiplication(2, 0)) == 0\n",
                "assert next(multiplication(0, 2)) == 0\n",
                "assert next(multiplication(10, 10)) == 100\n"
            ]
        },
        {
            "cell_type": "markdown",
            "metadata": {},
            "source": [
                "## Exponentiation"
            ]
        },
        {
            "cell_type": "code",
            "execution_count": 113,
            "metadata": {},
            "outputs": [],
            "source": [
                "def exponentiation(base: int, exponent: int) -> Generator[int, None, None]:\n",
                "    if base == 0:\n",
                "        yield from repeat(0)\n",
                "\n",
                "    if exponent == 0:\n",
                "        yield from repeat(1)\n",
                "\n",
                "    multiplication_ = multiplication(base, exponent)\n",
                "    result = 1\n",
                "    while True:\n",
                "        for _ in range(exponent):\n",
                "            result = next(multiplication_)\n",
                "        yield result\n",
                "\n",
                "\n",
                "assert next(exponentiation(1, 0)) == 1\n",
                "assert next(exponentiation(0, 1)) == 0\n",
                "assert next(exponentiation(3, 3)) == 27\n"
            ]
        },
        {
            "cell_type": "code",
            "execution_count": null,
            "metadata": {},
            "outputs": [],
            "source": []
        }
    ],
    "metadata": {
        "kernelspec": {
            "display_name": ".venv",
            "language": "python",
            "name": "python3"
        },
        "language_info": {
            "codemirror_mode": {
                "name": "ipython",
                "version": 3
            },
            "file_extension": ".py",
            "mimetype": "text/x-python",
            "name": "python",
            "nbconvert_exporter": "python",
            "pygments_lexer": "ipython3",
            "version": "3.10.4 (tags/v3.10.4:9d38120, Mar 23 2022, 23:13:41) [MSC v.1929 64 bit (AMD64)]"
        },
        "orig_nbformat": 4,
        "vscode": {
            "interpreter": {
                "hash": "a3349956cd5f31eb09cfa8ab65ba9774bc4eb05174a2fc2b960d18a93fca386a"
            }
        }
    },
    "nbformat": 4,
    "nbformat_minor": 2
}
