{
    "cells": [
        {
            "cell_type": "markdown",
            "metadata": {},
            "source": [
                "# Non-structured Paradigm"
            ]
        },
        {
            "cell_type": "markdown",
            "metadata": {},
            "source": [
                "# Initial Set-Up"
            ]
        },
        {
            "cell_type": "code",
            "execution_count": 1,
            "metadata": {},
            "outputs": [],
            "source": [
                "from goto import with_goto"
            ]
        },
        {
            "cell_type": "markdown",
            "metadata": {},
            "source": [
                "## Predecessor and Successor"
            ]
        },
        {
            "cell_type": "code",
            "execution_count": 2,
            "metadata": {},
            "outputs": [],
            "source": [
                "def predecessor(a: int) -> int:\n",
                "    return a - 1\n",
                "\n",
                "\n",
                "assert predecessor(1) == 0\n",
                "assert predecessor(10) == 9\n"
            ]
        },
        {
            "cell_type": "code",
            "execution_count": 3,
            "metadata": {},
            "outputs": [],
            "source": [
                "def successor(a: int) -> int:\n",
                "    return a + 1\n",
                "\n",
                "\n",
                "assert successor(0) == 1\n",
                "assert successor(10) == 11\n"
            ]
        },
        {
            "cell_type": "markdown",
            "metadata": {},
            "source": [
                "## Addition"
            ]
        },
        {
            "cell_type": "code",
            "execution_count": 4,
            "metadata": {},
            "outputs": [],
            "source": [
                "@with_goto\n",
                "def addition(addend_1: int, addend_2: int) -> int:\n",
                "    result = addend_1\n",
                "    label .start\n",
                "    \n",
                "    if addend_2 == 0:\n",
                "        goto .end\n",
                "    \n",
                "    result = successor(result)\n",
                "    addend_2 = predecessor(addend_2)\n",
                "    \n",
                "    goto .start\n",
                "\n",
                "    label .end\n",
                "    return result\n",
                "\n",
                "\n",
                "assert addition(0, 0) == 0, addition(0, 0)\n",
                "assert addition(1, 0) == 1\n",
                "assert addition(0, 1) == 1\n",
                "assert addition(10, 10) == 20\n"
            ]
        },
        {
            "cell_type": "markdown",
            "metadata": {},
            "source": [
                "## Multiplication"
            ]
        },
        {
            "cell_type": "code",
            "execution_count": 7,
            "metadata": {},
            "outputs": [],
            "source": [
                "@with_goto\n",
                "def multiplication(multiplicand: int, multiplier: int) -> int:       \n",
                "    result = 0\n",
                "\n",
                "    label .start\n",
                "    \n",
                "    if multiplier == 0:\n",
                "        goto .end\n",
                "\n",
                "    result = addition(result, multiplicand)\n",
                "    multiplier = predecessor(multiplier)\n",
                "    goto .start\n",
                "        \n",
                "\n",
                "    label .end\n",
                "    return result\n",
                "    \n",
                "\n",
                "\n",
                "assert multiplication(0, 0) == 0\n",
                "assert multiplication(2, 0) == 0\n",
                "assert multiplication(0, 2) == 0\n",
                "assert multiplication(10, 10) == 100\n"
            ]
        },
        {
            "cell_type": "markdown",
            "metadata": {},
            "source": [
                "## Exponentiation"
            ]
        },
        {
            "cell_type": "code",
            "execution_count": 10,
            "metadata": {},
            "outputs": [],
            "source": [
                "@with_goto\n",
                "def exponentiation(base: int, exponent: int) -> float:\n",
                "    result = 1\n",
                "\n",
                "    label .start\n",
                "    \n",
                "    if exponent == 0:\n",
                "        goto .end\n",
                "\n",
                "    result = multiplication(result, base)\n",
                "    exponent = predecessor(exponent)\n",
                "    goto .start\n",
                "        \n",
                "    label .end\n",
                "    return result\n",
                "\n",
                "\n",
                "assert exponentiation(1, 0) == 1\n",
                "assert exponentiation(0, 1) == 0\n",
                "assert exponentiation(3, 3) == 27\n"
            ]
        },
        {
            "cell_type": "code",
            "execution_count": null,
            "metadata": {},
            "outputs": [],
            "source": []
        }
    ],
    "metadata": {
        "kernelspec": {
            "display_name": "Python 3.10.4 ('.venv': venv)",
            "language": "python",
            "name": "python3"
        },
        "language_info": {
            "codemirror_mode": {
                "name": "ipython",
                "version": 3
            },
            "file_extension": ".py",
            "mimetype": "text/x-python",
            "name": "python",
            "nbconvert_exporter": "python",
            "pygments_lexer": "ipython3",
            "version": "3.9.13"
        },
        "orig_nbformat": 4,
        "vscode": {
            "interpreter": {
                "hash": "a3349956cd5f31eb09cfa8ab65ba9774bc4eb05174a2fc2b960d18a93fca386a"
            }
        }
    },
    "nbformat": 4,
    "nbformat_minor": 2
}
