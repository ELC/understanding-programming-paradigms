{
    "cells": [
        {
            "cell_type": "markdown",
            "metadata": {},
            "source": [
                "# Concatenative Paradigm"
            ]
        },
        {
            "cell_type": "markdown",
            "metadata": {},
            "source": [
                "Tacit Programming Approach (Concatenative)\n",
                "\n",
                "https://www.wikiwand.com/en/Tacit_programming\n",
                "https://www.wikiwand.com/en/Concatenative_programming_language\n",
                "\n",
                "To achieve this:\n",
                "\n",
                "- Functions do not use explicit parameters\n",
                "- Branchless"
            ]
        },
        {
            "cell_type": "markdown",
            "metadata": {},
            "source": [
                "## Auxiliary Functions"
            ]
        },
        {
            "cell_type": "code",
            "execution_count": 1,
            "metadata": {},
            "outputs": [],
            "source": [
                "import operator\n",
                "import functools\n",
                "from typing import Callable, TypeVar\n",
                "\n",
                "T = TypeVar(\"T\")\n",
                "R = TypeVar(\"R\")\n",
                "\n",
                "T1 = TypeVar(\"T1\")\n",
                "T2 = TypeVar(\"T2\")\n",
                "T3 = TypeVar(\"T3\")\n",
                "\n",
                "def compose(function_outer: Callable[[T1], T2], function_inner: Callable[[T3], T1]) -> Callable[[T3], T2]:\n",
                "    def composed_function(*args: T3) -> T2:\n",
                "        result = function_inner(*args)\n",
                "        return function_outer(*result) if hasattr(result, '__iter__') else function_outer(result)\n",
                "    return composed_function\n",
                "\n",
                "\n",
                "def thrush(value: T) -> Callable[[Callable[[T], R]], R]:\n",
                "    def thrush_step(function: Callable[[T], R]) -> R:\n",
                "        return function(value)\n",
                "    return thrush_step\n",
                "\n",
                "def iterate(function: Callable[[T], R]) -> Callable[[int], Callable[[T], R | T]]:\n",
                "    def iterate_step(times: int) -> Callable[[T], R | T]:\n",
                "        def inner_step(x: T) -> R | T:\n",
                "            return functools.reduce(lambda x, _: function(x), range(times), x)\n",
                "        return inner_step\n",
                "    return iterate_step\n",
                "\n",
                "def curry(function: Callable[[T], R]) -> Callable[[T], Callable[[T], R] | functools.partial[R]]:\n",
                "    def curry_step(*args: T) -> Callable[[T], R] | functools.partial[R]:\n",
                "        result = function\n",
                "        for arg in args:\n",
                "            result = functools.partial(function, arg)\n",
                "        return result\n",
                "    return curry_step\n",
                "\n",
                "def uncurry(function: Callable[[T], Callable[[T], R] | R]) -> Callable[[T], R]:\n",
                "    def uncurry_step(*args: T) ->  R:\n",
                "        result = function\n",
                "        for arg in args:\n",
                "            result = result(arg)\n",
                "        return result\n",
                "    return uncurry_step\n"
            ]
        },
        {
            "cell_type": "markdown",
            "metadata": {},
            "source": [
                "## Predecessor and Successor"
            ]
        },
        {
            "cell_type": "code",
            "execution_count": 2,
            "metadata": {},
            "outputs": [],
            "source": [
                "predecessor = functools.partial(operator.add, -1)\n",
                "\n",
                "assert predecessor(1) == 0\n",
                "assert predecessor(10) == 9\n"
            ]
        },
        {
            "cell_type": "code",
            "execution_count": 3,
            "metadata": {},
            "outputs": [],
            "source": [
                "successor = functools.partial(operator.add, 1)\n",
                "\n",
                "assert successor(0) == 1\n",
                "assert successor(10) == 11\n"
            ]
        },
        {
            "cell_type": "markdown",
            "metadata": {},
            "source": [
                "## Addition"
            ]
        },
        {
            "cell_type": "code",
            "execution_count": 4,
            "metadata": {},
            "outputs": [],
            "source": [
                "addition = uncurry(iterate(successor))\n",
                "\n",
                "assert addition(1, 0) == 1\n",
                "assert addition(0, 0) == 0\n",
                "assert addition(0, 1) == 1\n",
                "assert addition(10, 10) == 20"
            ]
        },
        {
            "cell_type": "markdown",
            "metadata": {},
            "source": [
                "## Multiplication"
            ]
        },
        {
            "cell_type": "code",
            "execution_count": 5,
            "metadata": {},
            "outputs": [],
            "source": [
                "\n",
                "multiplication = compose(thrush(0), uncurry(compose(iterate, curry(addition))))\n",
                "\n",
                "assert multiplication(0, 0) == 0\n",
                "assert multiplication(2, 0) == 0\n",
                "assert multiplication(0, 2) == 0\n",
                "assert multiplication(10, 10) == 100\n"
            ]
        },
        {
            "cell_type": "markdown",
            "metadata": {},
            "source": [
                "## Exponentiation"
            ]
        },
        {
            "cell_type": "code",
            "execution_count": 6,
            "metadata": {},
            "outputs": [],
            "source": [
                "exponentiation = compose(thrush(1), uncurry(compose(iterate, curry(multiplication))))\n",
                "\n",
                "assert exponentiation(1, 0) == 1\n",
                "assert exponentiation(0, 1) == 0\n",
                "assert exponentiation(3, 3) == 27\n"
            ]
        },
        {
            "cell_type": "code",
            "execution_count": null,
            "metadata": {},
            "outputs": [],
            "source": []
        }
    ],
    "metadata": {
        "kernelspec": {
            "display_name": "Python 3.10.4 ('.venv': venv)",
            "language": "python",
            "name": "python3"
        },
        "language_info": {
            "codemirror_mode": {
                "name": "ipython",
                "version": 3
            },
            "file_extension": ".py",
            "mimetype": "text/x-python",
            "name": "python",
            "nbconvert_exporter": "python",
            "pygments_lexer": "ipython3",
            "version": "3.10.4"
        },
        "orig_nbformat": 4,
        "vscode": {
            "interpreter": {
                "hash": "a3349956cd5f31eb09cfa8ab65ba9774bc4eb05174a2fc2b960d18a93fca386a"
            }
        }
    },
    "nbformat": 4,
    "nbformat_minor": 2
}
