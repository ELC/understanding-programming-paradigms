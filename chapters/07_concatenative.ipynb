{
    "cells": [
        {
            "cell_type": "markdown",
            "metadata": {},
            "source": [
                "# Concatenative Paradigm"
            ]
        },
        {
            "cell_type": "markdown",
            "metadata": {},
            "source": [
                "Tacit Programming Approach (Concatenative)\n",
                "\n",
                "https://www.wikiwand.com/en/Tacit_programming\n",
                "https://www.wikiwand.com/en/Concatenative_programming_language\n",
                "\n",
                "To achieve this:\n",
                "\n",
                "- Functions do not use explicit parameters\n",
                "- Branchless"
            ]
        },
        {
            "cell_type": "markdown",
            "metadata": {},
            "source": [
                "## Using Python Standard Library"
            ]
        },
        {
            "cell_type": "markdown",
            "metadata": {},
            "source": [
                "## Auxiliary Functions"
            ]
        },
        {
            "cell_type": "code",
            "execution_count": 1,
            "metadata": {},
            "outputs": [],
            "source": [
                "import operator\n",
                "import functools\n",
                "from typing import Callable, TypeVar\n",
                "\n",
                "T = TypeVar(\"T\")\n",
                "R = TypeVar(\"R\")\n",
                "\n",
                "T1 = TypeVar(\"T1\")\n",
                "T2 = TypeVar(\"T2\")\n",
                "T3 = TypeVar(\"T3\")\n",
                "\n",
                "\n",
                "def compose(\n",
                "    function_outer: Callable[[T1], T2], function_inner: Callable[[T3], T1]\n",
                ") -> Callable[[T3], T2]:\n",
                "    def composed_function(*args: T3) -> T2:\n",
                "        result = function_inner(*args)\n",
                "        return function_outer(result)\n",
                "\n",
                "    return composed_function\n",
                "\n",
                "\n",
                "def thrush(value: T) -> Callable[[Callable[[T], R]], R]:\n",
                "    def thrush_step(function: Callable[[T], R]) -> R:\n",
                "        return function(value)\n",
                "\n",
                "    return thrush_step\n",
                "\n",
                "\n",
                "def iterate(function: Callable[[T | R], R]) -> Callable[[int], Callable[[T], R | T]]:\n",
                "    def iterate_step(times: int) -> Callable[[T], R | T]:\n",
                "        def inner_step(x: R | T) -> R | T:\n",
                "            return functools.reduce(lambda x, _: function(x) if callable(function) else x, range(times), x)\n",
                "\n",
                "        return inner_step\n",
                "\n",
                "    return iterate_step\n",
                "\n",
                "\n",
                "def curry(\n",
                "    function: Callable[[T], R]\n",
                ") -> Callable[[T], Callable[[T], R] | functools.partial[R]]:\n",
                "    def curry_step(*args: T) -> Callable[[T], R] | functools.partial[R]:\n",
                "        result = function\n",
                "        for arg in args:\n",
                "            result = functools.partial(function, arg)\n",
                "        return result\n",
                "\n",
                "    return curry_step\n",
                "\n",
                "\n",
                "def uncurry(function: Callable[[T], Callable[[T], R] | R]) -> Callable[[T], R]:\n",
                "    def uncurry_step(*args: T) -> R:\n",
                "        result = function\n",
                "        for arg in args:\n",
                "            result = result(arg)\n",
                "        return result\n",
                "\n",
                "    return uncurry_step\n"
            ]
        },
        {
            "cell_type": "markdown",
            "metadata": {},
            "source": [
                "## Predecessor and Successor"
            ]
        },
        {
            "cell_type": "code",
            "execution_count": 2,
            "metadata": {},
            "outputs": [],
            "source": [
                "predecessor = curry(operator.add)(-1)\n",
                "\n",
                "assert predecessor(1) == 0\n",
                "assert predecessor(10) == 9\n"
            ]
        },
        {
            "cell_type": "code",
            "execution_count": 3,
            "metadata": {},
            "outputs": [],
            "source": [
                "successor = curry(operator.add)(1)\n",
                "\n",
                "assert successor(0) == 1\n",
                "assert successor(10) == 11\n"
            ]
        },
        {
            "cell_type": "markdown",
            "metadata": {},
            "source": [
                "## Addition"
            ]
        },
        {
            "cell_type": "code",
            "execution_count": 4,
            "metadata": {},
            "outputs": [],
            "source": [
                "addition = uncurry(iterate(successor))\n",
                "\n",
                "assert addition(1, 0) == 1\n",
                "assert addition(0, 0) == 0\n",
                "assert addition(0, 1) == 1\n",
                "assert addition(10, 10) == 20\n"
            ]
        },
        {
            "cell_type": "markdown",
            "metadata": {},
            "source": [
                "## Multiplication"
            ]
        },
        {
            "cell_type": "code",
            "execution_count": 5,
            "metadata": {},
            "outputs": [],
            "source": [
                "multiplication = compose(thrush(0), uncurry(compose(iterate, addition)))\n",
                "\n",
                "assert multiplication(0, 0) == 0\n",
                "assert multiplication(2, 0) == 0\n",
                "assert multiplication(0, 2) == 0\n",
                "assert multiplication(10, 10) == 100\n"
            ]
        },
        {
            "cell_type": "markdown",
            "metadata": {},
            "source": [
                "## Exponentiation"
            ]
        },
        {
            "cell_type": "code",
            "execution_count": 6,
            "metadata": {},
            "outputs": [],
            "source": [
                "exponentiation = compose(thrush(1), uncurry(compose(iterate, curry(multiplication))))\n",
                "\n",
                "assert exponentiation(1, 0) == 1\n",
                "assert exponentiation(0, 1) == 0\n",
                "assert exponentiation(3, 3) == 27\n"
            ]
        },
        {
            "attachments": {},
            "cell_type": "markdown",
            "metadata": {},
            "source": [
                "## Using a specialized 3rd Party Library: `toolz`"
            ]
        },
        {
            "cell_type": "markdown",
            "metadata": {},
            "source": [
                "## Auxiliary Functions"
            ]
        },
        {
            "cell_type": "code",
            "execution_count": 7,
            "metadata": {},
            "outputs": [],
            "source": [
                "import toolz as tz\n",
                "import operator\n",
                "\n",
                "thrush_tz = tz.flip(tz.apply)\n",
                "\n",
                "apply_tuple = lambda f: lambda *args: f(args)\n",
                "unpack_tuple = lambda f: lambda args: f(*args)\n"
            ]
        },
        {
            "cell_type": "markdown",
            "metadata": {},
            "source": [
                "## Predecessor and Successor"
            ]
        },
        {
            "cell_type": "code",
            "execution_count": 8,
            "metadata": {},
            "outputs": [],
            "source": [
                "predecessor_tz = tz.curry(operator.add)(-1)\n",
                "\n",
                "assert predecessor_tz(1) == 0\n",
                "assert predecessor_tz(10) == 9\n"
            ]
        },
        {
            "cell_type": "code",
            "execution_count": 9,
            "metadata": {},
            "outputs": [],
            "source": [
                "successor_tz = tz.curry(operator.add)(1)\n",
                "\n",
                "assert successor_tz(0) == 1\n",
                "assert successor_tz(10) == 11\n"
            ]
        },
        {
            "cell_type": "markdown",
            "metadata": {},
            "source": [
                "## Addition"
            ]
        },
        {
            "cell_type": "code",
            "execution_count": 10,
            "metadata": {},
            "outputs": [],
            "source": [
                "addition_tz = tz.compose(\n",
                "    unpack_tuple(tz.pipe),\n",
                "    tz.juxt(\n",
                "        apply_tuple(tz.compose(tz.curry(tz.iterate)(successor_tz), tz.first)),\n",
                "        apply_tuple(tz.compose(tz.curry(tz.nth), tz.last)),\n",
                "    ),\n",
                ")\n",
                "\n",
                "assert addition_tz(1, 0) == 1\n",
                "assert addition_tz(0, 0) == 0\n",
                "assert addition_tz(0, 1) == 1\n",
                "assert addition_tz(10, 10) == 20\n"
            ]
        },
        {
            "cell_type": "markdown",
            "metadata": {},
            "source": [
                "## Multiplication"
            ]
        },
        {
            "cell_type": "code",
            "execution_count": 11,
            "metadata": {},
            "outputs": [],
            "source": [
                "# TODO: Refactor to use `addition_tz` instead of `addition`\n",
                "multiplication_tz = tz.compose(\n",
                "    thrush_tz(0), uncurry(tz.compose(tz.curry(iterate), tz.curry(addition)))\n",
                ")\n",
                "\n",
                "assert multiplication_tz(0, 0) == 0\n",
                "assert multiplication_tz(2, 0) == 0\n",
                "assert multiplication_tz(0, 2) == 0\n",
                "assert multiplication_tz(10, 10) == 100\n"
            ]
        },
        {
            "cell_type": "markdown",
            "metadata": {},
            "source": [
                "## Exponentiation"
            ]
        },
        {
            "cell_type": "code",
            "execution_count": 12,
            "metadata": {},
            "outputs": [],
            "source": [
                "# TODO: Refactor to use `tz.curry` instead of `curry`\n",
                "exponentiation_tz = tz.compose(\n",
                "    thrush_tz(1), uncurry(tz.compose(tz.curry(iterate), curry(multiplication_tz)))\n",
                ")\n",
                "\n",
                "assert exponentiation_tz(1, 0) == 1\n",
                "assert exponentiation_tz(0, 1) == 0\n",
                "assert exponentiation_tz(3, 3) == 27\n"
            ]
        }
    ],
    "metadata": {
        "kernelspec": {
            "display_name": "Python 3.10.4 ('.venv': venv)",
            "language": "python",
            "name": "python3"
        },
        "language_info": {
            "codemirror_mode": {
                "name": "ipython",
                "version": 3
            },
            "file_extension": ".py",
            "mimetype": "text/x-python",
            "name": "python",
            "nbconvert_exporter": "python",
            "pygments_lexer": "ipython3",
            "version": "3.10.4"
        },
        "orig_nbformat": 4,
        "vscode": {
            "interpreter": {
                "hash": "a3349956cd5f31eb09cfa8ab65ba9774bc4eb05174a2fc2b960d18a93fca386a"
            }
        }
    },
    "nbformat": 4,
    "nbformat_minor": 2
}
