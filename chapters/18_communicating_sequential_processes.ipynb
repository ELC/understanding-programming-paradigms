{
    "cells": [
        {
            "attachments": {},
            "cell_type": "markdown",
            "metadata": {},
            "source": [
                "# Communicating Sequential Processes Paradigm"
            ]
        },
        {
            "cell_type": "markdown",
            "metadata": {},
            "source": [
                "## Initial Set Up"
            ]
        },
        {
            "cell_type": "code",
            "execution_count": 3,
            "metadata": {},
            "outputs": [],
            "source": [
                "import gevent.queue as gq"
            ]
        },
        {
            "cell_type": "code",
            "execution_count": 1,
            "metadata": {},
            "outputs": [],
            "source": [
                "import gevent"
            ]
        },
        {
            "cell_type": "code",
            "execution_count": 33,
            "metadata": {},
            "outputs": [],
            "source": [
                "from __future__ import annotations\n",
                "from dataclasses import dataclass, field\n",
                "from typing import Callable, Any, Union\n",
                "from gevent.greenlet import Greenlet\n",
                "\n",
                "@dataclass\n",
                "class Process:\n",
                "    function: Callable[..., Any]\n",
                "    use_sink: bool = False\n",
                "    inlet: gq.Queue = field(init=False)\n",
                "    outlet: gq.Queue = field(init=False)\n",
                "\n",
                "    def __post_init__(self):\n",
                "        self.inlet = gq.Queue()\n",
                "        self.outlet = gq.Queue()\n",
                "\n",
                "    @staticmethod\n",
                "    def has_more_messages(queue: gq.Queue, timeout: int = 2):\n",
                "        for _ in range(timeout * 10):\n",
                "            if not queue.empty():\n",
                "                return True\n",
                "            gevent.sleep(0.1)\n",
                "        return False\n",
                "\n",
                "\n",
                "    def _run(self):\n",
                "        while has_more_messages(self.inlet):\n",
                "            arguments = self.inlet.get()\n",
                "            result = self.function(arguments)\n",
                "            self.outlet.put(result)\n",
                "\n",
                "\n",
                "    def run(self) -> Greenlet:\n",
                "        return gevent.spawn(self._run)\n",
                "\n",
                "    def read_from(self, other: Process):\n",
                "        self.inlet = other.outlet\n",
                "\n",
                "    def write_to(self, other: Process):\n",
                "        other.inlet = self.outlet\n"
            ]
        },
        {
            "cell_type": "code",
            "execution_count": 34,
            "metadata": {},
            "outputs": [],
            "source": [
                "def identity(x):\n",
                "    return x"
            ]
        },
        {
            "cell_type": "code",
            "execution_count": 36,
            "metadata": {},
            "outputs": [
                {
                    "name": "stdout",
                    "output_type": "stream",
                    "text": [
                        "1\n",
                        "2\n",
                        "3\n"
                    ]
                },
                {
                    "data": {
                        "text/plain": [
                            "[<Greenlet at 0x20fdfd4d800: _run>,\n",
                            " <Greenlet at 0x20fdfd4d940: _run>,\n",
                            " <Greenlet at 0x20fdfd4d9e0: _run>]"
                        ]
                    },
                    "execution_count": 36,
                    "metadata": {},
                    "output_type": "execute_result"
                }
            ],
            "source": [
                "reader_process = Process(function=print)\n",
                "writer_process = Process(function=identity)\n",
                "\n",
                "reader_process.read_from(writer_process)\n",
                "\n",
                "def trigger_process(process: Process, inputs: Any):\n",
                "    def worker():\n",
                "        for input_ in inputs:\n",
                "            process.inlet.put(input_)\n",
                "    return worker\n",
                "\n",
                "gevent.joinall([\n",
                "    gevent.spawn(trigger_process(writer_process, [1, 2, 3])),\n",
                "    writer_process.run(),\n",
                "    reader_process.run(),\n",
                "])"
            ]
        },
        {
            "cell_type": "markdown",
            "metadata": {},
            "source": [
                "## Predecessor and Successor"
            ]
        },
        {
            "cell_type": "code",
            "execution_count": 1,
            "metadata": {},
            "outputs": [],
            "source": [
                "def predecessor(a: int) -> int:\n",
                "    return a - 1\n",
                "\n",
                "\n",
                "assert predecessor(1) == 0\n",
                "assert predecessor(10) == 9\n"
            ]
        },
        {
            "cell_type": "code",
            "execution_count": 2,
            "metadata": {},
            "outputs": [],
            "source": [
                "def successor(a: int) -> int:\n",
                "    return a + 1\n",
                "\n",
                "\n",
                "assert successor(0) == 1\n",
                "assert successor(10) == 11\n"
            ]
        },
        {
            "cell_type": "markdown",
            "metadata": {},
            "source": [
                "## Addition"
            ]
        },
        {
            "cell_type": "code",
            "execution_count": 3,
            "metadata": {},
            "outputs": [],
            "source": [
                "def addition(addend_1: int, addend_2: int) -> int:\n",
                "    result = addend_1\n",
                "    for _ in range(addend_2):\n",
                "        result = successor(result)\n",
                "    return result\n",
                "\n",
                "\n",
                "assert addition(0, 0) == 0\n",
                "assert addition(1, 0) == 1\n",
                "assert addition(0, 1) == 1\n",
                "assert addition(10, 10) == 20\n"
            ]
        },
        {
            "cell_type": "markdown",
            "metadata": {},
            "source": [
                "## Multiplication"
            ]
        },
        {
            "cell_type": "code",
            "execution_count": 4,
            "metadata": {},
            "outputs": [],
            "source": [
                "def multiplication(multiplicand: int, multiplier: int) -> int:\n",
                "    if multiplicand == 0 or multiplier == 0:\n",
                "        return 0\n",
                "\n",
                "    result = 0\n",
                "    for _ in range(multiplier):\n",
                "        result = addition(result, multiplicand)\n",
                "    return result\n",
                "\n",
                "\n",
                "assert multiplication(0, 0) == 0\n",
                "assert multiplication(2, 0) == 0\n",
                "assert multiplication(0, 2) == 0\n",
                "assert multiplication(10, 10) == 100\n"
            ]
        },
        {
            "cell_type": "markdown",
            "metadata": {},
            "source": [
                "## Exponentiation"
            ]
        },
        {
            "cell_type": "code",
            "execution_count": 5,
            "metadata": {},
            "outputs": [],
            "source": [
                "def exponentiation(base: int, exponent: int) -> float:\n",
                "    result = 1\n",
                "    for _ in range(exponent):\n",
                "        result = multiplication(result, base)\n",
                "    return result\n",
                "\n",
                "\n",
                "assert exponentiation(1, 0) == 1\n",
                "assert exponentiation(0, 1) == 0\n",
                "assert exponentiation(3, 3) == 27\n"
            ]
        },
        {
            "cell_type": "code",
            "execution_count": null,
            "metadata": {},
            "outputs": [],
            "source": []
        }
    ],
    "metadata": {
        "kernelspec": {
            "display_name": "Python 3.10.4 ('.venv': venv)",
            "language": "python",
            "name": "python3"
        },
        "language_info": {
            "codemirror_mode": {
                "name": "ipython",
                "version": 3
            },
            "file_extension": ".py",
            "mimetype": "text/x-python",
            "name": "python",
            "nbconvert_exporter": "python",
            "pygments_lexer": "ipython3",
            "version": "3.10.4"
        },
        "orig_nbformat": 4,
        "vscode": {
            "interpreter": {
                "hash": "a3349956cd5f31eb09cfa8ab65ba9774bc4eb05174a2fc2b960d18a93fca386a"
            }
        }
    },
    "nbformat": 4,
    "nbformat_minor": 2
}
