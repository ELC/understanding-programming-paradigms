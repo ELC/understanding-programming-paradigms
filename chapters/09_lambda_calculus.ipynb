{
    "cells": [
        {
            "cell_type": "markdown",
            "metadata": {},
            "source": [
                "# Lambda Calculus Paradigm\n",
                "\n",
                "Using Church Numerals\n",
                "\n",
                "See also:\n",
                "\n",
                "- https://gist.github.com/JayDugger/2438955\n",
                "- https://rosettacode.org/wiki/Church_numerals\n",
                "- https://github.com/orsinium-labs/python-lambda-calculus/"
            ]
        },
        {
            "cell_type": "markdown",
            "metadata": {},
            "source": [
                "## Auxiliary Functions"
            ]
        },
        {
            "cell_type": "code",
            "execution_count": null,
            "metadata": {},
            "outputs": [],
            "source": [
                "church_to_int = lambda n: n(lambda x: x + 1)(0)\n",
                "\n",
                "zero = lambda f: lambda x: x\n",
                "\n",
                "assert church_to_int(zero) == 0\n",
                "\n",
                "successor_church = lambda n: lambda f: lambda x: f(n(f)(x))\n",
                "\n",
                "assert church_to_int(successor_church(zero)) == 1\n",
                "\n",
                "\n",
                "int_to_church = lambda n: zero if n == 0 else successor_church(int_to_church(n - 1))\n",
                "\n",
                "assert church_to_int(int_to_church(0)) == 0\n",
                "assert church_to_int(int_to_church(10)) == 10\n",
                "\n",
                "\n",
                "first_int = 5\n",
                "second_int = 2\n",
                "\n",
                "first_church = int_to_church(first_int)\n",
                "second_church = int_to_church(second_int)"
            ]
        },
        {
            "cell_type": "markdown",
            "metadata": {},
            "source": [
                "## Predecessor and Successor"
            ]
        },
        {
            "cell_type": "code",
            "execution_count": null,
            "metadata": {},
            "outputs": [],
            "source": [
                "successor_church = lambda n: lambda f: lambda x: f(n(f)(x))\n",
                "\n",
                "assert church_to_int(successor_church(zero)) == 1\n",
                "\n",
                "assert church_to_int(successor_church(int_to_church(0))) == 1\n",
                "assert church_to_int(successor_church(int_to_church(10))) == 11"
            ]
        },
        {
            "cell_type": "markdown",
            "metadata": {},
            "source": [
                "## Addition"
            ]
        },
        {
            "cell_type": "code",
            "execution_count": 27,
            "metadata": {},
            "outputs": [],
            "source": [
                "addition_church = lambda m: lambda n: lambda f: lambda x: n(f)(m(f)(x))\n",
                "\n",
                "assert church_to_int(addition_church(zero)(zero)) == 0\n",
                "assert church_to_int(addition_church(first_church)(second_church)) == first_int + second_int"
            ]
        },
        {
            "cell_type": "markdown",
            "metadata": {},
            "source": [
                "## Multiplication"
            ]
        },
        {
            "cell_type": "code",
            "execution_count": 28,
            "metadata": {},
            "outputs": [],
            "source": [
                "multiplication_church = lambda m: lambda f: lambda x: m(f(x))\n",
                "\n",
                "assert church_to_int(multiplication_church(int_to_church(0))(int_to_church(5))) == 0\n",
                "assert church_to_int(multiplication_church(int_to_church(5))(int_to_church(0))) == 0\n",
                "assert church_to_int(multiplication_church(int_to_church(5))(int_to_church(1))) == 5\n",
                "assert church_to_int(multiplication_church(int_to_church(1))(int_to_church(5))) == 5\n",
                "assert church_to_int(multiplication_church(first_church)(second_church)) == first_int * second_int"
            ]
        },
        {
            "cell_type": "markdown",
            "metadata": {},
            "source": [
                "## Exponentiation"
            ]
        },
        {
            "cell_type": "code",
            "execution_count": 29,
            "metadata": {},
            "outputs": [],
            "source": [
                "exponentiation_church = lambda m: lambda n: n(m)\n",
                "\n",
                "assert church_to_int(exponentiation_church(int_to_church(5))(int_to_church(0))) == 1\n",
                "assert church_to_int(exponentiation_church(int_to_church(5))(int_to_church(1))) == 5\n",
                "assert church_to_int(exponentiation_church(first_church)(second_church)) == first_int ** second_int"
            ]
        }
    ],
    "metadata": {
        "kernelspec": {
            "display_name": "Python 3.10.4 ('.venv': venv)",
            "language": "python",
            "name": "python3"
        },
        "language_info": {
            "codemirror_mode": {
                "name": "ipython",
                "version": 3
            },
            "file_extension": ".py",
            "mimetype": "text/x-python",
            "name": "python",
            "nbconvert_exporter": "python",
            "pygments_lexer": "ipython3",
            "version": "3.10.4"
        },
        "orig_nbformat": 4,
        "vscode": {
            "interpreter": {
                "hash": "a3349956cd5f31eb09cfa8ab65ba9774bc4eb05174a2fc2b960d18a93fca386a"
            }
        }
    },
    "nbformat": 4,
    "nbformat_minor": 2
}
