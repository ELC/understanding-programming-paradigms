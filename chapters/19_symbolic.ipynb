{
    "cells": [
        {
            "attachments": {},
            "cell_type": "markdown",
            "metadata": {},
            "source": [
                "# Symbolic Paradigm"
            ]
        },
        {
            "attachments": {},
            "cell_type": "markdown",
            "metadata": {},
            "source": [
                "## Initial Set-Up"
            ]
        },
        {
            "cell_type": "code",
            "execution_count": 2,
            "metadata": {},
            "outputs": [],
            "source": [
                "import sympy as sp\n",
                "\n",
                "x, y = sp.symbols(\"x, y\")\n"
            ]
        },
        {
            "cell_type": "markdown",
            "metadata": {},
            "source": [
                "## Predecessor and Successor"
            ]
        },
        {
            "cell_type": "code",
            "execution_count": 3,
            "metadata": {},
            "outputs": [],
            "source": [
                "def predecessor(a: sp.Symbol) -> sp.Expr:\n",
                "    return a - 1\n",
                "\n",
                "\n",
                "assert predecessor(x).subs(x, 1) == 0\n",
                "assert predecessor(x).subs(x, 10) == 9\n"
            ]
        },
        {
            "cell_type": "code",
            "execution_count": 4,
            "metadata": {},
            "outputs": [],
            "source": [
                "def successor(a: sp.Symbol) -> sp.Expr:\n",
                "    return a + 1\n",
                "\n",
                "\n",
                "assert successor(x).subs(x, 0) == 1\n",
                "assert successor(x).subs(x, 10) == 11\n"
            ]
        },
        {
            "cell_type": "markdown",
            "metadata": {},
            "source": [
                "## Addition"
            ]
        },
        {
            "cell_type": "code",
            "execution_count": 5,
            "metadata": {},
            "outputs": [],
            "source": [
                "def addition(addend_1: sp.Symbol, addend_2: sp.Symbol) -> sp.Expr:\n",
                "    return addend_1 + addend_2\n",
                "\n",
                "\n",
                "assert addition(x, y).subs({x: 0, y: 0}) == 0\n",
                "assert addition(x, y).subs({x: 1, y: 0}) == 1\n",
                "assert addition(x, y).subs({x: 0, y: 1}) == 1\n",
                "assert addition(x, y).subs({x: 10, y: 10}) == 20\n"
            ]
        },
        {
            "cell_type": "markdown",
            "metadata": {},
            "source": [
                "## Multiplication"
            ]
        },
        {
            "cell_type": "code",
            "execution_count": 6,
            "metadata": {},
            "outputs": [],
            "source": [
                "def multiplication(multiplicand: sp.Symbol, multiplier: sp.Symbol) -> sp.Expr:\n",
                "    return multiplicand * multiplier\n",
                "\n",
                "\n",
                "assert multiplication(x, y).subs({x: 0, y: 0}) == 0\n",
                "assert multiplication(x, y).subs({x: 2, y: 0}) == 0\n",
                "assert multiplication(x, y).subs({x: 0, y: 2}) == 0\n",
                "assert multiplication(x, y).subs({x: 10, y: 10}) == 100\n"
            ]
        },
        {
            "cell_type": "markdown",
            "metadata": {},
            "source": [
                "## Exponentiation"
            ]
        },
        {
            "cell_type": "code",
            "execution_count": 7,
            "metadata": {},
            "outputs": [],
            "source": [
                "def exponentiation(base: sp.Symbol, exponent: sp.Symbol) -> sp.Expr:\n",
                "    return base**exponent\n",
                "\n",
                "\n",
                "assert exponentiation(x, y).subs({x: 1, y: 0}) == 1\n",
                "assert exponentiation(x, y).subs({x: 0, y: 1}) == 0\n",
                "assert exponentiation(x, y).subs({x: 3, y: 3}) == 27\n"
            ]
        },
        {
            "attachments": {},
            "cell_type": "markdown",
            "metadata": {},
            "source": [
                "## What is the particularity of the Symbolic Paradigm?"
            ]
        },
        {
            "cell_type": "code",
            "execution_count": 32,
            "metadata": {},
            "outputs": [],
            "source": [
                "z, w, b = sp.symbols(\"z, w, b\")\n"
            ]
        },
        {
            "cell_type": "code",
            "execution_count": 33,
            "metadata": {},
            "outputs": [
                {
                    "name": "stdout",
                    "output_type": "stream",
                    "text": [
                        "520 ns ± 11.1 ns per loop (mean ± std. dev. of 7 runs, 1,000,000 loops each)\n"
                    ]
                }
            ],
            "source": [
                "%%timeit\n",
                "exponentiation(2, 10) / exponentiation(2, 9)"
            ]
        },
        {
            "cell_type": "code",
            "execution_count": 34,
            "metadata": {},
            "outputs": [
                {
                    "name": "stdout",
                    "output_type": "stream",
                    "text": [
                        "13.1 ms ± 575 µs per loop (mean ± std. dev. of 7 runs, 100 loops each)\n"
                    ]
                }
            ],
            "source": [
                "%%timeit\n",
                "(exponentiation(z, w) / exponentiation(z, b)).simplify().subs({z: 2, w: 10, b: 9})"
            ]
        },
        {
            "cell_type": "code",
            "execution_count": 35,
            "metadata": {},
            "outputs": [
                {
                    "name": "stdout",
                    "output_type": "stream",
                    "text": [
                        "167 ms ± 3.29 ms per loop (mean ± std. dev. of 7 runs, 10 loops each)\n"
                    ]
                }
            ],
            "source": [
                "%%timeit\n",
                "exponentiation(2, 10000000) / exponentiation(2, 9999999)"
            ]
        },
        {
            "cell_type": "code",
            "execution_count": 36,
            "metadata": {},
            "outputs": [
                {
                    "name": "stdout",
                    "output_type": "stream",
                    "text": [
                        "13.5 ms ± 394 µs per loop (mean ± std. dev. of 7 runs, 100 loops each)\n"
                    ]
                }
            ],
            "source": [
                "%%timeit\n",
                "(exponentiation(z, w) / exponentiation(z, b)).simplify().subs({z: 2, w: 10000000, b: 9999999})"
            ]
        },
        {
            "cell_type": "code",
            "execution_count": 37,
            "metadata": {},
            "outputs": [
                {
                    "name": "stdout",
                    "output_type": "stream",
                    "text": [
                        "29.1 s ± 716 ms per loop (mean ± std. dev. of 7 runs, 1 loop each)\n"
                    ]
                }
            ],
            "source": [
                "%%timeit\n",
                "exponentiation(2, 1000000000) / exponentiation(2, 999999999)"
            ]
        },
        {
            "cell_type": "code",
            "execution_count": 38,
            "metadata": {},
            "outputs": [
                {
                    "name": "stdout",
                    "output_type": "stream",
                    "text": [
                        "13.8 ms ± 1.27 ms per loop (mean ± std. dev. of 7 runs, 100 loops each)\n"
                    ]
                }
            ],
            "source": [
                "%%timeit\n",
                "(exponentiation(z, w) / exponentiation(z, b)).simplify().subs({z: 2, w: 1000000000, b: 999999999})"
            ]
        }
    ],
    "metadata": {
        "kernelspec": {
            "display_name": "Python 3.10.4 ('.venv': venv)",
            "language": "python",
            "name": "python3"
        },
        "language_info": {
            "codemirror_mode": {
                "name": "ipython",
                "version": 3
            },
            "file_extension": ".py",
            "mimetype": "text/x-python",
            "name": "python",
            "nbconvert_exporter": "python",
            "pygments_lexer": "ipython3",
            "version": "3.11.1"
        },
        "orig_nbformat": 4,
        "vscode": {
            "interpreter": {
                "hash": "a3349956cd5f31eb09cfa8ab65ba9774bc4eb05174a2fc2b960d18a93fca386a"
            }
        }
    },
    "nbformat": 4,
    "nbformat_minor": 2
}
