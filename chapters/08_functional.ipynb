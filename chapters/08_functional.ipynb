{
    "cells": [
        {
            "cell_type": "markdown",
            "metadata": {},
            "source": [
                "# Functional Paradigm with Composition"
            ]
        },
        {
            "cell_type": "markdown",
            "metadata": {},
            "source": [
                "https://www.wikiwand.com/en/Lambda_calculus\n",
                "\n",
                "To achieve this:\n",
                "\n",
                "- Only use functions that take one parameter\n",
                "- Only use anonymous functions"
            ]
        },
        {
            "cell_type": "markdown",
            "metadata": {},
            "source": [
                "## Predecessor and Successor"
            ]
        },
        {
            "cell_type": "code",
            "execution_count": 1,
            "metadata": {},
            "outputs": [],
            "source": [
                "def predecessor(x: int) -> int:\n",
                "    if x == 1:\n",
                "        return 0\n",
                "    return 1 + predecessor(x - 1)\n",
                "\n",
                "\n",
                "assert predecessor(1) == 0\n",
                "assert predecessor(10) == 9\n"
            ]
        },
        {
            "cell_type": "code",
            "execution_count": 2,
            "metadata": {},
            "outputs": [],
            "source": [
                "def successor(x: int) -> int:\n",
                "    if x == 0:\n",
                "        return 1\n",
                "    return 1 + successor(predecessor(x))\n",
                "\n",
                "\n",
                "assert successor(0) == 1\n",
                "assert successor(10) == 11\n"
            ]
        },
        {
            "cell_type": "markdown",
            "metadata": {},
            "source": [
                "## Addition"
            ]
        },
        {
            "cell_type": "code",
            "execution_count": 3,
            "metadata": {},
            "outputs": [],
            "source": [
                "def addition(x: int, y: int) -> int:\n",
                "    if y == 0:\n",
                "        return x\n",
                "    return addition(successor(x), predecessor(y))\n",
                "\n",
                "\n",
                "assert addition(0, 0) == 0\n",
                "assert addition(1, 0) == 1\n",
                "assert addition(0, 1) == 1\n",
                "assert addition(10, 10) == 20\n"
            ]
        },
        {
            "cell_type": "markdown",
            "metadata": {},
            "source": [
                "## Multiplication"
            ]
        },
        {
            "cell_type": "code",
            "execution_count": 4,
            "metadata": {},
            "outputs": [],
            "source": [
                "def multiplication(x: int, y: int) -> int:\n",
                "    if y == 0:\n",
                "        return 0\n",
                "    return addition(x, multiplication(x, predecessor(y)))\n",
                "\n",
                "\n",
                "assert multiplication(0, 0) == 0\n",
                "assert multiplication(2, 0) == 0\n",
                "assert multiplication(0, 2) == 0\n",
                "assert multiplication(10, 10) == 100\n"
            ]
        },
        {
            "cell_type": "markdown",
            "metadata": {},
            "source": [
                "## Exponentiation"
            ]
        },
        {
            "cell_type": "code",
            "execution_count": 5,
            "metadata": {},
            "outputs": [],
            "source": [
                "def exponentiation(x: int, y: int) -> int:\n",
                "    if x == 0:\n",
                "        return 0\n",
                "    if y == 0:\n",
                "        return 1\n",
                "    return multiplication(x, exponentiation(x, predecessor(y)))\n",
                "\n",
                "\n",
                "assert exponentiation(1, 0) == 1\n",
                "assert exponentiation(0, 1) == 0\n",
                "assert exponentiation(3, 3) == 27\n"
            ]
        },
        {
            "cell_type": "markdown",
            "metadata": {},
            "source": [
                "# Functional Paradigm with Anonymous Functions and Recursion"
            ]
        },
        {
            "cell_type": "markdown",
            "metadata": {},
            "source": [
                "Lambda Calculus Programming Approach\n",
                "https://www.wikiwand.com/en/Lambda_calculus\n",
                "\n",
                "To achieve this:\n",
                "\n",
                "- Only use functions that take one parameter\n",
                "- Only use anonymous functions"
            ]
        },
        {
            "cell_type": "markdown",
            "metadata": {},
            "source": [
                "## Predecessor and Successor"
            ]
        },
        {
            "cell_type": "code",
            "execution_count": 6,
            "metadata": {},
            "outputs": [],
            "source": [
                "predecessor_lambda = lambda x: 0 if x == 1 else 1 + predecessor_lambda(x - 1)\n",
                "\n",
                "assert predecessor_lambda(1) == 0\n",
                "assert predecessor_lambda(10) == 9\n"
            ]
        },
        {
            "cell_type": "code",
            "execution_count": 7,
            "metadata": {},
            "outputs": [],
            "source": [
                "successor_lambda = (\n",
                "    lambda x: 1 if x == 0 else 1 + successor_lambda(predecessor_lambda(x))\n",
                ")\n",
                "\n",
                "assert successor_lambda(0) == 1\n",
                "assert successor_lambda(10) == 11\n"
            ]
        },
        {
            "cell_type": "markdown",
            "metadata": {},
            "source": [
                "## Addition"
            ]
        },
        {
            "cell_type": "code",
            "execution_count": 8,
            "metadata": {},
            "outputs": [],
            "source": [
                "addition = lambda x: lambda y: x if y == 0 else addition(x + 1)(y - 1)\n",
                "\n",
                "assert addition(1)(0) == 1\n",
                "assert addition(0)(0) == 0\n",
                "assert addition(0)(1) == 1\n",
                "assert addition(10)(10) == 20\n"
            ]
        },
        {
            "cell_type": "markdown",
            "metadata": {},
            "source": [
                "## Multiplication"
            ]
        },
        {
            "cell_type": "code",
            "execution_count": 9,
            "metadata": {},
            "outputs": [],
            "source": [
                "multiplication = lambda x: lambda y: 0 if y == 0 else x + multiplication(x)(y - 1)\n",
                "\n",
                "assert multiplication(0)(0) == 0\n",
                "assert multiplication(1)(0) == 0\n",
                "assert multiplication(0)(1) == 0\n",
                "assert multiplication(10)(10) == 100\n"
            ]
        },
        {
            "cell_type": "markdown",
            "metadata": {},
            "source": [
                "## Exponentiation"
            ]
        },
        {
            "cell_type": "code",
            "execution_count": 10,
            "metadata": {},
            "outputs": [],
            "source": [
                "exponentiation = (\n",
                "    lambda x: lambda y: 0 if x == 0 else 1 if y == 0 else x * exponentiation(x)(y - 1)\n",
                ")\n",
                "\n",
                "assert exponentiation(1)(0) == 1\n",
                "assert exponentiation(0)(1) == 0\n",
                "assert exponentiation(3)(3) == 27\n"
            ]
        },
        {
            "cell_type": "markdown",
            "metadata": {},
            "source": [
                "# Functional Paradigm with Anonymous Functions Without Recursion"
            ]
        },
        {
            "cell_type": "markdown",
            "metadata": {},
            "source": [
                "Lambda Calculus without direct recursion\n",
                "\n",
                "To achieve this:\n",
                "\n",
                "- Use Y Combinator"
            ]
        },
        {
            "cell_type": "markdown",
            "metadata": {},
            "source": [
                "## Auxiliary Functions"
            ]
        },
        {
            "cell_type": "code",
            "execution_count": 11,
            "metadata": {},
            "outputs": [],
            "source": [
                "Y = lambda f: (lambda z: z(z))(lambda g: f(lambda n: g(g)(n)))\n"
            ]
        },
        {
            "cell_type": "markdown",
            "metadata": {},
            "source": [
                "## Predecessor and Successor"
            ]
        },
        {
            "cell_type": "code",
            "execution_count": 12,
            "metadata": {},
            "outputs": [],
            "source": [
                "predecessor_lambda = Y(lambda f: lambda x: 0 if x == 1 else 1 + f(x - 1))\n",
                "\n",
                "assert predecessor_lambda(1) == 0\n",
                "assert predecessor_lambda(10) == 9\n"
            ]
        },
        {
            "cell_type": "code",
            "execution_count": 13,
            "metadata": {},
            "outputs": [],
            "source": [
                "successor_lambda = Y(lambda f: lambda x: 1 if x == 0 else 1 + f(predecessor_lambda(x)))\n",
                "\n",
                "assert successor_lambda(0) == 1\n",
                "assert successor_lambda(10) == 11\n"
            ]
        },
        {
            "cell_type": "markdown",
            "metadata": {},
            "source": [
                "## Addition"
            ]
        },
        {
            "cell_type": "code",
            "execution_count": 14,
            "metadata": {},
            "outputs": [],
            "source": [
                "addition_lambda = Y(\n",
                "    lambda f: lambda x: lambda y: x\n",
                "    if y == 0\n",
                "    else f(successor_lambda(x))(predecessor_lambda(y))\n",
                ")\n",
                "\n",
                "assert addition_lambda(1)(0) == 1\n",
                "assert addition_lambda(0)(0) == 0\n",
                "assert addition_lambda(0)(1) == 1\n",
                "assert addition_lambda(10)(10) == 20\n"
            ]
        },
        {
            "cell_type": "markdown",
            "metadata": {},
            "source": [
                "## Multiplication"
            ]
        },
        {
            "cell_type": "code",
            "execution_count": 15,
            "metadata": {},
            "outputs": [],
            "source": [
                "multiplication_lambda = Y(\n",
                "    lambda f: lambda x: lambda y: 0 if y == 0 else x + f(x)(predecessor_lambda(y))\n",
                ")\n",
                "\n",
                "assert multiplication_lambda(0)(0) == 0\n",
                "assert multiplication_lambda(1)(0) == 0\n",
                "assert multiplication_lambda(0)(1) == 0\n",
                "assert multiplication_lambda(10)(10) == 100\n"
            ]
        },
        {
            "cell_type": "markdown",
            "metadata": {},
            "source": [
                "## Exponentiation"
            ]
        },
        {
            "cell_type": "code",
            "execution_count": 16,
            "metadata": {},
            "outputs": [],
            "source": [
                "exponentiation_lambda = Y(\n",
                "    lambda f: lambda x: lambda y: 0\n",
                "    if x == 0\n",
                "    else 1\n",
                "    if y == 0\n",
                "    else x * f(x)(predecessor_lambda(y))\n",
                ")\n",
                "\n",
                "assert exponentiation_lambda(1)(0) == 1\n",
                "assert exponentiation_lambda(0)(1) == 0\n",
                "assert exponentiation_lambda(3)(3) == 27\n"
            ]
        },
        {
            "cell_type": "code",
            "execution_count": null,
            "metadata": {},
            "outputs": [],
            "source": []
        }
    ],
    "metadata": {
        "kernelspec": {
            "display_name": "Python 3.10.4 ('.venv': venv)",
            "language": "python",
            "name": "python3"
        },
        "language_info": {
            "codemirror_mode": {
                "name": "ipython",
                "version": 3
            },
            "file_extension": ".py",
            "mimetype": "text/x-python",
            "name": "python",
            "nbconvert_exporter": "python",
            "pygments_lexer": "ipython3",
            "version": "3.10.9"
        },
        "orig_nbformat": 4,
        "vscode": {
            "interpreter": {
                "hash": "a3349956cd5f31eb09cfa8ab65ba9774bc4eb05174a2fc2b960d18a93fca386a"
            }
        }
    },
    "nbformat": 4,
    "nbformat_minor": 2
}
