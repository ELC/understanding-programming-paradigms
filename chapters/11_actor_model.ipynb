{
    "cells": [
        {
            "cell_type": "markdown",
            "metadata": {},
            "source": [
                "# Actor Model Paradigm"
            ]
        },
        {
            "cell_type": "markdown",
            "metadata": {},
            "source": [
                "# Initial Set-Up"
            ]
        },
        {
            "cell_type": "code",
            "execution_count": 9,
            "metadata": {},
            "outputs": [],
            "source": [
                "import pykka\n",
                "from typing import Optional\n"
            ]
        },
        {
            "cell_type": "markdown",
            "metadata": {},
            "source": [
                "## Predecessor and Successor"
            ]
        },
        {
            "cell_type": "code",
            "execution_count": 17,
            "metadata": {},
            "outputs": [],
            "source": [
                "class Predecesser(pykka.ThreadingActor):\n",
                "    def __init__(self, current_value: Optional[int] = None):\n",
                "        super().__init__()\n",
                "        self.current_value = current_value\n",
                "\n",
                "    def on_receive(self, message: None = None) -> int:\n",
                "        if self.current_value is None:\n",
                "            raise ValueError(\"No current_value was set\")\n",
                "\n",
                "        self.current_value -= 1\n",
                "        return self.current_value\n",
                "\n",
                "\n",
                "assert Predecesser().start(current_value=1).ask(None) == 0\n",
                "assert Predecesser().start(current_value=10).ask(None) == 9\n"
            ]
        },
        {
            "cell_type": "code",
            "execution_count": 18,
            "metadata": {},
            "outputs": [],
            "source": [
                "class Successer(pykka.ThreadingActor):\n",
                "    def __init__(self, current_value: Optional[int] = None):\n",
                "        super().__init__()\n",
                "        self.current_value = current_value\n",
                "\n",
                "    def on_receive(self, message: None = None) -> int:\n",
                "        if self.current_value is None:\n",
                "            raise ValueError(\"No current_value was set\")\n",
                "\n",
                "        self.current_value += 1\n",
                "        return self.current_value\n",
                "\n",
                "\n",
                "assert Successer().start(current_value=0).ask(None) == 1\n",
                "assert Successer().start(current_value=10).ask(None) == 11\n"
            ]
        },
        {
            "cell_type": "markdown",
            "metadata": {},
            "source": [
                "## Addition"
            ]
        },
        {
            "cell_type": "code",
            "execution_count": 42,
            "metadata": {},
            "outputs": [],
            "source": [
                "class Adder(pykka.ThreadingActor):\n",
                "    def __init__(self, initial_value: Optional[int] = None):\n",
                "        super().__init__()\n",
                "        self.initial_value = initial_value\n",
                "        self.current_value: Optional[int] = None\n",
                "\n",
                "    def on_receive(self, message: int) -> int:\n",
                "        if self.initial_value is None or message is None:\n",
                "            raise ValueError(\"Both addends should be specified\")\n",
                "\n",
                "        if self.current_value is None:\n",
                "            self.current_value = self.initial_value\n",
                "\n",
                "        successer = Successer().start(current_value=self.current_value)\n",
                "\n",
                "        for _ in range(message):\n",
                "            successer.tell(None)\n",
                "\n",
                "        successer_proxy = successer.proxy()\n",
                "        result_future = successer_proxy.current_value\n",
                "        result: int = result_future.get()\n",
                "        self.current_value = result\n",
                "        return self.current_value\n",
                "\n",
                "\n",
                "assert Adder().start(initial_value=0).ask(0) == 0\n",
                "assert Adder().start(initial_value=1).ask(0) == 1\n",
                "assert Adder().start(initial_value=0).ask(1) == 1\n",
                "assert Adder().start(initial_value=10).ask(10) == 20\n"
            ]
        },
        {
            "cell_type": "markdown",
            "metadata": {},
            "source": [
                "## Multiplication"
            ]
        },
        {
            "cell_type": "code",
            "execution_count": 41,
            "metadata": {},
            "outputs": [],
            "source": [
                "class Multiplier(pykka.ThreadingActor):\n",
                "    def __init__(self, multiplicand: Optional[int] = None):\n",
                "        super().__init__()\n",
                "        self.multiplicand = multiplicand\n",
                "        self.current_value = None\n",
                "\n",
                "    def on_receive(self, message: int) -> int:\n",
                "        if self.multiplicand is None or message is None:\n",
                "            raise ValueError(\"Both multiplicand and multiplier should be specified\")\n",
                "\n",
                "        if self.multiplicand == 0 or message == 0:\n",
                "            return 0\n",
                "\n",
                "        if self.current_value is None:\n",
                "            self.current_value = 0\n",
                "\n",
                "        adder = Adder().start(initial_value=self.current_value)\n",
                "\n",
                "        for _ in range(message):\n",
                "            adder.tell(message)\n",
                "\n",
                "        adder_proxy = adder.proxy()\n",
                "        result_future = adder_proxy.current_value\n",
                "        result: int = result_future.get()\n",
                "        self.current_value = result\n",
                "        return self.current_value\n",
                "\n",
                "\n",
                "assert Multiplier.start(multiplicand=0).ask(0) == 0\n",
                "assert Multiplier.start(multiplicand=2).ask(0) == 0\n",
                "assert Multiplier.start(multiplicand=0).ask(2) == 0\n",
                "assert Multiplier.start(multiplicand=10).ask(10) == 100\n"
            ]
        },
        {
            "cell_type": "markdown",
            "metadata": {},
            "source": [
                "## Exponentiation"
            ]
        },
        {
            "cell_type": "code",
            "execution_count": 40,
            "metadata": {},
            "outputs": [],
            "source": [
                "class Power(pykka.ThreadingActor):\n",
                "    def __init__(self, base: Optional[int] = None):\n",
                "        super().__init__()\n",
                "        self.base = base\n",
                "        self.current_value = None\n",
                "\n",
                "    def on_receive(self, message: int) -> int:\n",
                "        if self.base is None or message is None:\n",
                "            raise ValueError(\"Both base and exponent should be specified\")\n",
                "\n",
                "        if self.base == 0:\n",
                "            return 0\n",
                "\n",
                "        if message == 0:\n",
                "            return 1\n",
                "\n",
                "        if self.current_value is None:\n",
                "            self.current_value = 1\n",
                "\n",
                "        multiplier = Multiplier().start(multiplicand=1)\n",
                "\n",
                "        for _ in range(message):\n",
                "            multiplier.tell(message)\n",
                "\n",
                "        multiplier_proxy = multiplier.proxy()\n",
                "        result_future = multiplier_proxy.current_value\n",
                "        result: int = result_future.get()\n",
                "        self.current_value = result\n",
                "        return self.current_value\n",
                "\n",
                "\n",
                "assert Power().start(base=1).ask(0) == 1\n",
                "assert Power().start(base=0).ask(1) == 0\n",
                "assert Power().start(base=3).ask(3) == 27\n"
            ]
        },
        {
            "cell_type": "code",
            "execution_count": null,
            "metadata": {},
            "outputs": [],
            "source": []
        }
    ],
    "metadata": {
        "kernelspec": {
            "display_name": "Python 3.10.4 ('.venv': venv)",
            "language": "python",
            "name": "python3"
        },
        "language_info": {
            "codemirror_mode": {
                "name": "ipython",
                "version": 3
            },
            "file_extension": ".py",
            "mimetype": "text/x-python",
            "name": "python",
            "nbconvert_exporter": "python",
            "pygments_lexer": "ipython3",
            "version": "3.10.4"
        },
        "orig_nbformat": 4,
        "vscode": {
            "interpreter": {
                "hash": "a3349956cd5f31eb09cfa8ab65ba9774bc4eb05174a2fc2b960d18a93fca386a"
            }
        }
    },
    "nbformat": 4,
    "nbformat_minor": 2
}
