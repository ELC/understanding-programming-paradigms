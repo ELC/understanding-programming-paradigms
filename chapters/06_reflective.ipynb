{
    "cells": [
        {
            "cell_type": "markdown",
            "metadata": {},
            "source": [
                "# Reflective Paradigm"
            ]
        },
        {
            "cell_type": "markdown",
            "metadata": {},
            "source": [
                "## Setting a Variable"
            ]
        },
        {
            "cell_type": "code",
            "execution_count": 1,
            "metadata": {},
            "outputs": [],
            "source": [
                "a = 5  # Imperative\n",
                "assert a == 5\n",
                "\n",
                "globals()[\"a\"] = 10  # reflective\n",
                "assert a == 10\n"
            ]
        },
        {
            "cell_type": "markdown",
            "metadata": {},
            "source": [
                "## Predecessor and Successor"
            ]
        },
        {
            "cell_type": "code",
            "execution_count": 2,
            "metadata": {},
            "outputs": [],
            "source": [
                "def _(variable: str) -> float:\n",
                "    return globals()[variable] - 1\n",
                "\n",
                "\n",
                "globals()[\"predecessor\"] = _\n",
                "\n",
                "a = 1\n",
                "b = 10\n",
                "\n",
                "assert predecessor(\"a\") == 0\n",
                "assert predecessor(\"b\") == 9\n"
            ]
        },
        {
            "cell_type": "code",
            "execution_count": 3,
            "metadata": {},
            "outputs": [],
            "source": [
                "def _(variable: str) -> float:\n",
                "    return globals()[variable] + 1\n",
                "\n",
                "\n",
                "globals()[\"successor\"] = _\n",
                "\n",
                "a = 0\n",
                "b = 10\n",
                "\n",
                "assert successor(\"a\") == 1\n",
                "assert successor(\"b\") == 11\n"
            ]
        },
        {
            "cell_type": "markdown",
            "metadata": {},
            "source": [
                "## Addition"
            ]
        },
        {
            "cell_type": "code",
            "execution_count": 4,
            "metadata": {},
            "outputs": [],
            "source": [
                "def _(addend_1: str, addend_2: str) -> float:\n",
                "    return globals()[addend_1] + globals()[addend_2]\n",
                "\n",
                "\n",
                "globals()[\"addition\"] = _\n",
                "\n",
                "\n",
                "a = 0\n",
                "b = 0\n",
                "assert addition(\"a\", \"b\") == 0\n",
                "\n",
                "a = 1\n",
                "b = 0\n",
                "assert addition(\"a\", \"b\") == 1\n",
                "\n",
                "a = 0\n",
                "b = 1\n",
                "assert addition(\"a\", \"b\") == 1\n",
                "\n",
                "a = 10\n",
                "b = 10\n",
                "assert addition(\"a\", \"b\") == 20\n"
            ]
        },
        {
            "cell_type": "markdown",
            "metadata": {},
            "source": [
                "## Multiplication"
            ]
        },
        {
            "cell_type": "code",
            "execution_count": 5,
            "metadata": {},
            "outputs": [],
            "source": [
                "def _(multiplicand: str, multiplier: str) -> float:\n",
                "    return globals()[multiplicand] * globals()[multiplier]\n",
                "\n",
                "\n",
                "globals()[\"multiplication\"] = _\n",
                "\n",
                "\n",
                "a = 0\n",
                "b = 0\n",
                "assert multiplication(\"a\", \"b\") == 0\n",
                "\n",
                "a = 2\n",
                "b = 0\n",
                "assert multiplication(\"a\", \"b\") == 0\n",
                "\n",
                "a = 0\n",
                "b = 2\n",
                "assert multiplication(\"a\", \"b\") == 0\n",
                "\n",
                "a = 10\n",
                "b = 10\n",
                "assert multiplication(\"a\", \"b\") == 100\n"
            ]
        },
        {
            "cell_type": "markdown",
            "metadata": {},
            "source": [
                "## Exponentiation"
            ]
        },
        {
            "cell_type": "code",
            "execution_count": 6,
            "metadata": {},
            "outputs": [],
            "source": [
                "def _(base: str, exponent: str) -> float:\n",
                "    return globals()[base] ** globals()[exponent]\n",
                "\n",
                "\n",
                "globals()[\"exponentiation\"] = _\n",
                "\n",
                "a = 1\n",
                "b = 0\n",
                "assert exponentiation(\"a\", \"b\") == 1\n",
                "\n",
                "a = 0\n",
                "b = 1\n",
                "assert exponentiation(\"a\", \"b\") == 0\n",
                "\n",
                "a = 3\n",
                "b = 3\n",
                "assert exponentiation(\"a\", \"b\") == 27\n"
            ]
        }
    ],
    "metadata": {
        "kernelspec": {
            "display_name": "Python 3.10.4 ('.venv': venv)",
            "language": "python",
            "name": "python3"
        },
        "language_info": {
            "codemirror_mode": {
                "name": "ipython",
                "version": 3
            },
            "file_extension": ".py",
            "mimetype": "text/x-python",
            "name": "python",
            "nbconvert_exporter": "python",
            "pygments_lexer": "ipython3",
            "version": "3.10.9"
        },
        "orig_nbformat": 4,
        "vscode": {
            "interpreter": {
                "hash": "a3349956cd5f31eb09cfa8ab65ba9774bc4eb05174a2fc2b960d18a93fca386a"
            }
        }
    },
    "nbformat": 4,
    "nbformat_minor": 2
}
