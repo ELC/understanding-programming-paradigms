{
    "cells": [
        {
            "cell_type": "markdown",
            "metadata": {},
            "source": [
                "# Imperative Paradigm"
            ]
        },
        {
            "cell_type": "markdown",
            "metadata": {},
            "source": [
                "## Predecessor and Successor"
            ]
        },
        {
            "cell_type": "code",
            "execution_count": 2,
            "metadata": {},
            "outputs": [],
            "source": [
                "def predecessor(a: float) -> float:\n",
                "    return a - 1\n",
                "\n",
                "\n",
                "assert predecessor(1) == 0\n",
                "assert predecessor(10) == 9\n"
            ]
        },
        {
            "cell_type": "code",
            "execution_count": 1,
            "metadata": {},
            "outputs": [],
            "source": [
                "def successor(a: float) -> float:\n",
                "    return a + 1\n",
                "\n",
                "\n",
                "assert successor(0) == 1\n",
                "assert successor(10) == 11\n"
            ]
        },
        {
            "cell_type": "markdown",
            "metadata": {},
            "source": [
                "## Addition"
            ]
        },
        {
            "cell_type": "code",
            "execution_count": 3,
            "metadata": {},
            "outputs": [],
            "source": [
                "def addition(addend_1: float, addend_2: float) -> float:\n",
                "    return addend_1 + addend_2\n",
                "\n",
                "\n",
                "assert addition(0, 0) == 0\n",
                "assert addition(1, 0) == 1\n",
                "assert addition(0, 1) == 1\n",
                "assert addition(10, 10) == 20\n"
            ]
        },
        {
            "cell_type": "markdown",
            "metadata": {},
            "source": [
                "## Multiplication"
            ]
        },
        {
            "cell_type": "code",
            "execution_count": 4,
            "metadata": {},
            "outputs": [],
            "source": [
                "def multiplication(multiplicand: float, multiplier: float) -> float:\n",
                "    return multiplicand * multiplier\n",
                "\n",
                "\n",
                "assert multiplication(0, 0) == 0\n",
                "assert multiplication(2, 0) == 0\n",
                "assert multiplication(0, 2) == 0\n",
                "assert multiplication(10, 10) == 100\n"
            ]
        },
        {
            "cell_type": "markdown",
            "metadata": {},
            "source": [
                "## Exponentiation"
            ]
        },
        {
            "cell_type": "code",
            "execution_count": 5,
            "metadata": {},
            "outputs": [],
            "source": [
                "def exponentiation(base: float, exponent: float) -> float:\n",
                "    return base**exponent\n",
                "\n",
                "\n",
                "assert exponentiation(1, 0) == 1\n",
                "assert exponentiation(0, 1) == 0\n",
                "assert exponentiation(3, 3) == 27\n"
            ]
        },
        {
            "cell_type": "code",
            "execution_count": null,
            "metadata": {},
            "outputs": [],
            "source": []
        }
    ],
    "metadata": {
        "kernelspec": {
            "display_name": "Python 3.10.4 ('.venv': venv)",
            "language": "python",
            "name": "python3"
        },
        "language_info": {
            "codemirror_mode": {
                "name": "ipython",
                "version": 3
            },
            "file_extension": ".py",
            "mimetype": "text/x-python",
            "name": "python",
            "nbconvert_exporter": "python",
            "pygments_lexer": "ipython3",
            "version": "3.10.4"
        },
        "orig_nbformat": 4,
        "vscode": {
            "interpreter": {
                "hash": "a3349956cd5f31eb09cfa8ab65ba9774bc4eb05174a2fc2b960d18a93fca386a"
            }
        }
    },
    "nbformat": 4,
    "nbformat_minor": 2
}
